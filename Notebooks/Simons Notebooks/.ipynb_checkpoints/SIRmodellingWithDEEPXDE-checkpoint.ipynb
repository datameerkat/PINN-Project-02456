{
 "cells": [
  {
   "cell_type": "markdown",
   "metadata": {},
   "source": [
    "# SIR Model with DeepXDE"
   ]
  },
  {
   "cell_type": "markdown",
   "metadata": {},
   "source": [
    "By Allan P. Engsig-Karup (apek@dtu.dk)\n",
    "March 8, 2021\n",
    "\n",
    "In this notebook, we generate data using a SIR model and learn (discover) the truth parameters from the data series using PINNs."
   ]
  },
  {
   "cell_type": "markdown",
   "metadata": {},
   "source": [
    " $\\frac{dS}{dt}=-\\beta IS $\n",
    "\n",
    " $\\frac{dI}{dt}=bIS-kI$\n",
    "\n",
    "Based on the above equations and $R=1-S-I$ we get the ODE for $R$.\n",
    "\n",
    "\n",
    "$\\frac{dR}{dt}=-\\frac{dS}{dt}-\\frac{dI}{dt}=kI$\n",
    "\n",
    "We learn this model using synthetic data obtained from a numerical simulation through an ODE solver."
   ]
  },
  {
   "cell_type": "markdown",
   "metadata": {},
   "source": [
    "Install packages (run only once in the runtime)"
   ]
  },
  {
   "cell_type": "code",
   "execution_count": 1,
   "metadata": {},
   "outputs": [
    {
     "name": "stdout",
     "output_type": "stream",
     "text": [
      "Collecting deepxde\n",
      "  Obtaining dependency information for deepxde from https://files.pythonhosted.org/packages/04/45/ab703e9532178dbf3de714def435f669eea6b65306ad505fe6e1870a35e6/DeepXDE-1.10.0-py3-none-any.whl.metadata\n",
      "  Downloading DeepXDE-1.10.0-py3-none-any.whl.metadata (12 kB)\n",
      "Requirement already satisfied: matplotlib in c:\\anaconda\\envs\\deep_learning_1\\lib\\site-packages (from deepxde) (3.7.2)\n",
      "Requirement already satisfied: numpy in c:\\anaconda\\envs\\deep_learning_1\\lib\\site-packages (from deepxde) (1.25.2)\n",
      "Requirement already satisfied: scikit-learn in c:\\anaconda\\envs\\deep_learning_1\\lib\\site-packages (from deepxde) (1.2.2)\n",
      "Collecting scikit-optimize>=0.9.0 (from deepxde)\n",
      "  Downloading scikit_optimize-0.9.0-py2.py3-none-any.whl (100 kB)\n",
      "     ---------------------------------------- 0.0/100.3 kB ? eta -:--:--\n",
      "     ---- ----------------------------------- 10.2/100.3 kB ? eta -:--:--\n",
      "     -------------------------------------- 100.3/100.3 kB 1.2 MB/s eta 0:00:00\n",
      "Requirement already satisfied: scipy in c:\\anaconda\\envs\\deep_learning_1\\lib\\site-packages (from deepxde) (1.11.1)\n",
      "Requirement already satisfied: joblib>=0.11 in c:\\anaconda\\envs\\deep_learning_1\\lib\\site-packages (from scikit-optimize>=0.9.0->deepxde) (1.3.2)\n",
      "Collecting pyaml>=16.9 (from scikit-optimize>=0.9.0->deepxde)\n",
      "  Obtaining dependency information for pyaml>=16.9 from https://files.pythonhosted.org/packages/7e/ed/b5f644b7a1de2e966345e60dacc040d98371213df6ae4070ba19280ae6d4/pyaml-23.9.7-py3-none-any.whl.metadata\n",
      "  Downloading pyaml-23.9.7-py3-none-any.whl.metadata (11 kB)\n",
      "Requirement already satisfied: threadpoolctl>=2.0.0 in c:\\anaconda\\envs\\deep_learning_1\\lib\\site-packages (from scikit-learn->deepxde) (3.2.0)\n",
      "Requirement already satisfied: contourpy>=1.0.1 in c:\\anaconda\\envs\\deep_learning_1\\lib\\site-packages (from matplotlib->deepxde) (1.0.5)\n",
      "Requirement already satisfied: cycler>=0.10 in c:\\anaconda\\envs\\deep_learning_1\\lib\\site-packages (from matplotlib->deepxde) (0.11.0)\n",
      "Requirement already satisfied: fonttools>=4.22.0 in c:\\anaconda\\envs\\deep_learning_1\\lib\\site-packages (from matplotlib->deepxde) (4.25.0)\n",
      "Requirement already satisfied: kiwisolver>=1.0.1 in c:\\anaconda\\envs\\deep_learning_1\\lib\\site-packages (from matplotlib->deepxde) (1.4.4)\n",
      "Requirement already satisfied: packaging>=20.0 in c:\\anaconda\\envs\\deep_learning_1\\lib\\site-packages (from matplotlib->deepxde) (23.1)\n",
      "Requirement already satisfied: pillow>=6.2.0 in c:\\anaconda\\envs\\deep_learning_1\\lib\\site-packages (from matplotlib->deepxde) (9.4.0)\n",
      "Requirement already satisfied: pyparsing<3.1,>=2.3.1 in c:\\anaconda\\envs\\deep_learning_1\\lib\\site-packages (from matplotlib->deepxde) (3.0.9)\n",
      "Requirement already satisfied: python-dateutil>=2.7 in c:\\anaconda\\envs\\deep_learning_1\\lib\\site-packages (from matplotlib->deepxde) (2.8.2)\n",
      "Requirement already satisfied: PyYAML in c:\\anaconda\\envs\\deep_learning_1\\lib\\site-packages (from pyaml>=16.9->scikit-optimize>=0.9.0->deepxde) (6.0)\n",
      "Requirement already satisfied: six>=1.5 in c:\\anaconda\\envs\\deep_learning_1\\lib\\site-packages (from python-dateutil>=2.7->matplotlib->deepxde) (1.16.0)\n",
      "Downloading DeepXDE-1.10.0-py3-none-any.whl (166 kB)\n",
      "   ---------------------------------------- 0.0/166.2 kB ? eta -:--:--\n",
      "   ---------------------------------------- 166.2/166.2 kB 5.0 MB/s eta 0:00:00\n",
      "Downloading pyaml-23.9.7-py3-none-any.whl (23 kB)\n",
      "Installing collected packages: pyaml, scikit-optimize, deepxde\n",
      "Successfully installed deepxde-1.10.0 pyaml-23.9.7 scikit-optimize-0.9.0\n"
     ]
    }
   ],
   "source": [
    "!pip install deepxde"
   ]
  },
  {
   "cell_type": "markdown",
   "metadata": {},
   "source": [
    "Imports and functions"
   ]
  },
  {
   "cell_type": "code",
   "execution_count": 2,
   "metadata": {},
   "outputs": [
    {
     "name": "stdout",
     "output_type": "stream",
     "text": [
      "No backend selected.\n",
      "Finding available backend...\n"
     ]
    },
    {
     "name": "stderr",
     "output_type": "stream",
     "text": [
      "Using backend: pytorch\n",
      "Other supported backends: tensorflow.compat.v1, tensorflow, jax, paddle.\n",
      "paddle supports more examples now and is recommended.\n"
     ]
    },
    {
     "name": "stdout",
     "output_type": "stream",
     "text": [
      "Found pytorch\n",
      "Setting the default backend to \"pytorch\". You can change it in the ~/.deepxde/config.json file or export the DDE_BACKEND environment variable. Valid options are: tensorflow.compat.v1, tensorflow, pytorch, jax, paddle (all lowercase)\n"
     ]
    },
    {
     "ename": "AttributeError",
     "evalue": "'function' object has no attribute 'Variable'",
     "output_type": "error",
     "traceback": [
      "\u001b[1;31m---------------------------------------------------------------------------\u001b[0m",
      "\u001b[1;31mAttributeError\u001b[0m                            Traceback (most recent call last)",
      "Cell \u001b[1;32mIn[2], line 25\u001b[0m\n\u001b[0;32m     22\u001b[0m k\u001b[38;5;241m=\u001b[39m\u001b[38;5;241m1\u001b[39m\u001b[38;5;241m/\u001b[39m\u001b[38;5;241m3\u001b[39m\n\u001b[0;32m     24\u001b[0m \u001b[38;5;66;03m# parameters to be identified\u001b[39;00m\n\u001b[1;32m---> 25\u001b[0m C1 \u001b[38;5;241m=\u001b[39m tf\u001b[38;5;241m.\u001b[39mVariable(\u001b[38;5;241m1.0\u001b[39m)\n\u001b[0;32m     26\u001b[0m C2 \u001b[38;5;241m=\u001b[39m tf\u001b[38;5;241m.\u001b[39mVariable(\u001b[38;5;241m1.0\u001b[39m)\n\u001b[0;32m     28\u001b[0m C1true \u001b[38;5;241m=\u001b[39m b\n",
      "\u001b[1;31mAttributeError\u001b[0m: 'function' object has no attribute 'Variable'"
     ]
    }
   ],
   "source": [
    "from __future__ import absolute_import\n",
    "from __future__ import division\n",
    "from __future__ import print_function\n",
    "\n",
    "import io\n",
    "import re\n",
    "\n",
    "import matplotlib.pyplot as plt\n",
    "import numpy as np\n",
    "import requests\n",
    "\n",
    "import deepxde as dde\n",
    "from deepxde.backend import tf\n",
    "\n",
    "import numpy as np\n",
    "from scipy.integrate import odeint\n",
    "\n",
    "# SIR model parameters\n",
    "tfinal = 200   # compute ground truth\n",
    "t0predict = 120 # timie limit for traininig data, extrapolate from this time\n",
    "b=0.5 \n",
    "k=1/3\n",
    "\n",
    "# parameters to be identified\n",
    "C1 = tf.Variable(1.0)\n",
    "C2 = tf.Variable(1.0)\n",
    "\n",
    "C1true = b\n",
    "C2true = k\n",
    "\n",
    "# SIR model definition\n",
    "def SIR(z, t):\n",
    "    return [\n",
    "      -b*z[0]*z[1]  ,\n",
    "       b*z[0]*z[1] - k*z[1] ,\n",
    "       k*z[1] \n",
    "    ]\n",
    "\n",
    "# Generate true solution\n",
    "dt = .25 # time step\n",
    "t_true = np.arange(0, tfinal, dt)\n",
    "x0_train = [9.99999833e-01, 1.66666667e-07, 0.00000000e+00] # Initial condition\n",
    "x_true = odeint(SIR, x0_train, t_true)\n",
    "\n",
    "# Generate measurement data\n",
    "dt = .1 # time step \n",
    "t_test = np.arange(dt/2.0, tfinal, dt) # to be used for prediction\n",
    "x_true = odeint(SIR, x0_train, t_test) \n",
    "t_test = t_test.reshape(len(t_test),-1)\n",
    "t_train = np.arange(0, t0predict, dt)\n",
    "x_train = odeint(SIR, x0_train, t_train)\n",
    "t_train = t_train.reshape((len(t_train),1)) # reshape array to fit with DeepXDE"
   ]
  },
  {
   "cell_type": "markdown",
   "metadata": {},
   "source": [
    "Define data and BCs"
   ]
  },
  {
   "cell_type": "code",
   "execution_count": 3,
   "metadata": {},
   "outputs": [
    {
     "ename": "NameError",
     "evalue": "name 't_train' is not defined",
     "output_type": "error",
     "traceback": [
      "\u001b[1;31m---------------------------------------------------------------------------\u001b[0m",
      "\u001b[1;31mNameError\u001b[0m                                 Traceback (most recent call last)",
      "Cell \u001b[1;32mIn[3], line 25\u001b[0m\n\u001b[0;32m     22\u001b[0m ic3 \u001b[38;5;241m=\u001b[39m dde\u001b[38;5;241m.\u001b[39mIC(geom, \u001b[38;5;28;01mlambda\u001b[39;00m X: x0_train[\u001b[38;5;241m2\u001b[39m], boundary, component\u001b[38;5;241m=\u001b[39m\u001b[38;5;241m2\u001b[39m) \u001b[38;5;66;03m# R\u001b[39;00m\n\u001b[0;32m     24\u001b[0m \u001b[38;5;66;03m# Get the training data (synthetic data, but could be any data)\u001b[39;00m\n\u001b[1;32m---> 25\u001b[0m observe_t \u001b[38;5;241m=\u001b[39m t_train\n\u001b[0;32m     26\u001b[0m observe_z \u001b[38;5;241m=\u001b[39m x_train\n\u001b[0;32m     27\u001b[0m \u001b[38;5;66;03m#observe_t, ob_y = gen_traindata()\u001b[39;00m\n",
      "\u001b[1;31mNameError\u001b[0m: name 't_train' is not defined"
     ]
    }
   ],
   "source": [
    "def boundary(_, on_initial):\n",
    "    return on_initial\n",
    "\n",
    "# SIR model definition\n",
    "def SIR_system(t,z):\n",
    "    z0, z1, z2 = z[:,0:1], z[:,1:2], z[:,2:]\n",
    "    dz0_t = dde.grad.jacobian(z, t, i=0)\n",
    "    dz1_t = dde.grad.jacobian(z, t, i=1)\n",
    "    dz2_t = dde.grad.jacobian(z, t, i=2)\n",
    "    return [\n",
    "      dz0_t - ( -C1*z0*z1 )  ,\n",
    "      dz1_t - ( C1*z0*z1 - C2*z1 ),\n",
    "      dz2_t - ( C2*z1 )\n",
    "    ]\n",
    "\n",
    "# define time domain\n",
    "geom = dde.geometry.TimeDomain(0, tfinal)\n",
    "\n",
    "# Initial conditions\n",
    "ic1 = dde.IC(geom, lambda X: x0_train[0], boundary, component=0) # S\n",
    "ic2 = dde.IC(geom, lambda X: x0_train[1], boundary, component=1) # I\n",
    "ic3 = dde.IC(geom, lambda X: x0_train[2], boundary, component=2) # R\n",
    "\n",
    "# Get the training data (synthetic data, but could be any data)\n",
    "observe_t = t_train\n",
    "observe_z = x_train\n",
    "#observe_t, ob_y = gen_traindata()\n",
    "observe_z0 = dde.PointSetBC(observe_t, observe_z[:, 0:1], component=0)\n",
    "observe_z1 = dde.PointSetBC(observe_t, observe_z[:, 1:2], component=1)\n",
    "observe_z2 = dde.PointSetBC(observe_t, observe_z[:, 2:], component=2)\n",
    "\n",
    "# define data object\n",
    "data = dde.data.PDE(\n",
    "    geom,\n",
    "    SIR_system,\n",
    "    [ic1, ic2, ic3, observe_z0, observe_z1, observe_z2],\n",
    "    num_domain=800,\n",
    "    num_boundary=2,\n",
    "    anchors=t_test\n",
    ")\n",
    "\n",
    "plt.plot(observe_t, observe_z)\n",
    "plt.xlabel('Time')\n",
    "plt.legend(['S','I','R'])\n",
    "plt.title('Training data')\n",
    "plt.show()"
   ]
  },
  {
   "cell_type": "markdown",
   "metadata": {},
   "source": [
    "Train network"
   ]
  },
  {
   "cell_type": "code",
   "execution_count": 71,
   "metadata": {
    "scrolled": false
   },
   "outputs": [
    {
     "name": "stdout",
     "output_type": "stream",
     "text": [
      "Compiling model...\n",
      "Building feed-forward neural network...\n",
      "'build' took 0.063434 s\n",
      "\n",
      "'compile' took 0.871284 s\n",
      "\n",
      "Initializing variables...\n",
      "Training model...\n",
      "\n",
      "Step      Train loss                                                                                    Test loss                                                                                     Test metric\n",
      "0         [6.74e-01, 1.29e-01, 1.36e+00, 1.00e+00, 2.78e-14, 0.00e+00, 8.49e-02, 1.31e+00, 6.32e-01]    [6.74e-01, 1.29e-01, 1.36e+00, 0.00e+00, 0.00e+00, 0.00e+00, 0.00e+00, 0.00e+00, 0.00e+00]    []  \n",
      "1000      [3.83e-05, 2.40e-05, 2.09e-05, 2.81e-08, 6.78e-08, 5.76e-08, 1.89e-03, 2.92e-04, 2.24e-03]    [3.83e-05, 2.40e-05, 2.09e-05, 0.00e+00, 0.00e+00, 0.00e+00, 0.00e+00, 0.00e+00, 0.00e+00]    []  \n",
      "2000      [2.75e-05, 3.52e-05, 2.42e-05, 1.84e-09, 4.48e-11, 1.15e-09, 1.66e-03, 2.56e-04, 1.38e-03]    [2.75e-05, 3.52e-05, 2.42e-05, 0.00e+00, 0.00e+00, 0.00e+00, 0.00e+00, 0.00e+00, 0.00e+00]    []  \n",
      "3000      [2.19e-05, 3.41e-05, 2.74e-05, 1.65e-09, 8.76e-10, 7.60e-13, 1.54e-03, 2.39e-04, 1.23e-03]    [2.19e-05, 3.41e-05, 2.74e-05, 0.00e+00, 0.00e+00, 0.00e+00, 0.00e+00, 0.00e+00, 0.00e+00]    []  \n",
      "4000      [1.81e-05, 2.89e-05, 2.65e-05, 1.41e-09, 3.87e-10, 7.47e-12, 1.41e-03, 2.31e-04, 1.15e-03]    [1.81e-05, 2.89e-05, 2.65e-05, 0.00e+00, 0.00e+00, 0.00e+00, 0.00e+00, 0.00e+00, 0.00e+00]    []  \n",
      "5000      [1.56e-05, 2.49e-05, 2.58e-05, 1.32e-10, 7.66e-12, 4.39e-10, 1.31e-03, 2.26e-04, 1.09e-03]    [1.56e-05, 2.49e-05, 2.58e-05, 0.00e+00, 0.00e+00, 0.00e+00, 0.00e+00, 0.00e+00, 0.00e+00]    []  \n",
      "6000      [1.27e-05, 1.67e-05, 1.95e-05, 1.95e-06, 3.62e-08, 1.93e-06, 1.70e-03, 2.54e-04, 1.55e-03]    [1.27e-05, 1.67e-05, 1.95e-05, 0.00e+00, 0.00e+00, 0.00e+00, 0.00e+00, 0.00e+00, 0.00e+00]    []  \n",
      "7000      [1.21e-05, 2.20e-05, 2.64e-05, 4.92e-10, 3.57e-11, 1.37e-10, 1.12e-03, 2.09e-04, 9.77e-04]    [1.21e-05, 2.20e-05, 2.64e-05, 0.00e+00, 0.00e+00, 0.00e+00, 0.00e+00, 0.00e+00, 0.00e+00]    []  \n",
      "8000      [9.59e-06, 1.91e-05, 2.50e-05, 9.35e-10, 4.13e-10, 3.67e-10, 9.52e-04, 2.00e-04, 9.14e-04]    [9.59e-06, 1.91e-05, 2.50e-05, 0.00e+00, 0.00e+00, 0.00e+00, 0.00e+00, 0.00e+00, 0.00e+00]    []  \n",
      "9000      [1.21e-05, 1.28e-05, 2.08e-05, 3.65e-09, 5.40e-10, 4.10e-10, 5.21e-04, 1.89e-04, 7.30e-04]    [1.21e-05, 1.28e-05, 2.08e-05, 0.00e+00, 0.00e+00, 0.00e+00, 0.00e+00, 0.00e+00, 0.00e+00]    []  \n",
      "10000     [3.23e-05, 7.38e-06, 2.70e-05, 5.20e-11, 6.42e-10, 1.08e-10, 4.83e-05, 1.75e-04, 1.81e-04]    [3.23e-05, 7.38e-06, 2.70e-05, 0.00e+00, 0.00e+00, 0.00e+00, 0.00e+00, 0.00e+00, 0.00e+00]    []  \n",
      "11000     [2.39e-05, 5.15e-06, 2.40e-05, 1.02e-09, 4.64e-11, 1.73e-11, 2.90e-05, 1.37e-04, 3.73e-05]    [2.39e-05, 5.15e-06, 2.40e-05, 0.00e+00, 0.00e+00, 0.00e+00, 0.00e+00, 0.00e+00, 0.00e+00]    []  \n",
      "12000     [2.07e-05, 2.17e-06, 1.91e-05, 1.06e-07, 1.93e-06, 5.31e-06, 1.35e-04, 1.62e-04, 7.35e-04]    [2.07e-05, 2.17e-06, 1.91e-05, 0.00e+00, 0.00e+00, 0.00e+00, 0.00e+00, 0.00e+00, 0.00e+00]    []  \n",
      "13000     [1.20e-05, 1.26e-06, 1.21e-05, 7.68e-11, 3.41e-10, 1.37e-10, 2.14e-05, 8.71e-05, 1.03e-05]    [1.20e-05, 1.26e-06, 1.21e-05, 0.00e+00, 0.00e+00, 0.00e+00, 0.00e+00, 0.00e+00, 0.00e+00]    []  \n",
      "14000     [1.05e-05, 1.18e-06, 1.15e-05, 1.32e-08, 6.67e-09, 1.93e-08, 2.01e-05, 7.33e-05, 9.06e-06]    [1.05e-05, 1.18e-06, 1.15e-05, 0.00e+00, 0.00e+00, 0.00e+00, 0.00e+00, 0.00e+00, 0.00e+00]    []  \n",
      "15000     [8.82e-06, 1.10e-06, 9.80e-06, 4.70e-11, 2.62e-10, 2.61e-11, 1.94e-05, 6.40e-05, 4.93e-06]    [8.82e-06, 1.10e-06, 9.80e-06, 0.00e+00, 0.00e+00, 0.00e+00, 0.00e+00, 0.00e+00, 0.00e+00]    []  \n",
      "16000     [7.69e-06, 1.04e-06, 8.60e-06, 1.37e-09, 5.31e-10, 1.09e-10, 1.82e-05, 5.63e-05, 3.64e-06]    [7.69e-06, 1.04e-06, 8.60e-06, 0.00e+00, 0.00e+00, 0.00e+00, 0.00e+00, 0.00e+00, 0.00e+00]    []  \n",
      "17000     [6.98e-06, 9.84e-07, 7.99e-06, 1.64e-08, 2.22e-08, 1.60e-10, 1.75e-05, 4.97e-05, 3.71e-06]    [6.98e-06, 9.84e-07, 7.99e-06, 0.00e+00, 0.00e+00, 0.00e+00, 0.00e+00, 0.00e+00, 0.00e+00]    []  \n",
      "18000     [5.64e-06, 8.97e-07, 5.91e-06, 2.38e-07, 1.35e-07, 1.76e-07, 2.54e-05, 4.38e-05, 2.00e-05]    [5.64e-06, 8.97e-07, 5.91e-06, 0.00e+00, 0.00e+00, 0.00e+00, 0.00e+00, 0.00e+00, 0.00e+00]    []  \n",
      "19000     [4.64e-06, 7.84e-07, 4.92e-06, 2.30e-08, 3.12e-09, 1.21e-08, 1.60e-05, 3.44e-05, 2.95e-06]    [4.64e-06, 7.84e-07, 4.92e-06, 0.00e+00, 0.00e+00, 0.00e+00, 0.00e+00, 0.00e+00, 0.00e+00]    []  \n",
      "20000     [3.49e-06, 6.25e-07, 3.53e-06, 1.71e-08, 4.53e-10, 3.05e-09, 1.51e-05, 2.51e-05, 2.15e-06]    [3.49e-06, 6.25e-07, 3.53e-06, 0.00e+00, 0.00e+00, 0.00e+00, 0.00e+00, 0.00e+00, 0.00e+00]    []  \n",
      "21000     [2.19e-06, 4.01e-07, 1.90e-06, 1.72e-07, 2.01e-09, 7.74e-08, 1.52e-05, 1.43e-05, 8.26e-06]    [2.19e-06, 4.01e-07, 1.90e-06, 0.00e+00, 0.00e+00, 0.00e+00, 0.00e+00, 0.00e+00, 0.00e+00]    []  \n",
      "22000     [1.14e-06, 2.46e-07, 8.01e-07, 3.92e-09, 1.56e-09, 1.82e-09, 1.08e-05, 7.30e-06, 2.93e-06]    [1.14e-06, 2.46e-07, 8.01e-07, 0.00e+00, 0.00e+00, 0.00e+00, 0.00e+00, 0.00e+00, 0.00e+00]    []  \n",
      "23000     [7.27e-07, 1.88e-07, 4.74e-07, 7.07e-09, 1.00e-07, 6.10e-12, 8.24e-06, 5.33e-06, 4.39e-06]    [7.27e-07, 1.88e-07, 4.74e-07, 0.00e+00, 0.00e+00, 0.00e+00, 0.00e+00, 0.00e+00, 0.00e+00]    []  \n",
      "24000     [3.58e-07, 1.06e-07, 1.83e-07, 1.82e-08, 4.68e-11, 4.85e-09, 4.80e-06, 2.27e-06, 2.45e-06]    [3.58e-07, 1.06e-07, 1.83e-07, 0.00e+00, 0.00e+00, 0.00e+00, 0.00e+00, 0.00e+00, 0.00e+00]    []  \n",
      "25000     [7.60e-07, 1.85e-07, 8.18e-07, 4.44e-07, 5.51e-09, 5.71e-07, 2.70e-05, 7.56e-06, 7.02e-05]    [7.60e-07, 1.85e-07, 8.18e-07, 0.00e+00, 0.00e+00, 0.00e+00, 0.00e+00, 0.00e+00, 0.00e+00]    []  \n",
      "26000     [1.65e-07, 7.58e-08, 1.07e-07, 3.39e-08, 2.27e-09, 2.34e-08, 2.44e-06, 1.16e-06, 1.37e-06]    [1.65e-07, 7.58e-08, 1.07e-07, 0.00e+00, 0.00e+00, 0.00e+00, 0.00e+00, 0.00e+00, 0.00e+00]    []  \n",
      "27000     [2.94e-07, 7.95e-08, 1.57e-07, 5.59e-08, 3.72e-07, 4.34e-08, 5.79e-06, 2.01e-06, 7.79e-06]    [2.94e-07, 7.95e-08, 1.57e-07, 0.00e+00, 0.00e+00, 0.00e+00, 0.00e+00, 0.00e+00, 0.00e+00]    []  \n",
      "28000     [1.68e-07, 6.43e-08, 2.02e-07, 7.66e-07, 1.71e-07, 2.70e-07, 2.50e-05, 1.94e-06, 2.14e-05]    [1.68e-07, 6.43e-08, 2.02e-07, 0.00e+00, 0.00e+00, 0.00e+00, 0.00e+00, 0.00e+00, 0.00e+00]    []  \n",
      "29000     [1.60e-06, 1.88e-07, 9.52e-07, 1.38e-07, 1.99e-06, 3.74e-08, 3.65e-06, 1.17e-05, 6.79e-07]    [1.60e-06, 1.88e-07, 9.52e-07, 0.00e+00, 0.00e+00, 0.00e+00, 0.00e+00, 0.00e+00, 0.00e+00]    []  \n",
      "30000     [9.58e-07, 1.20e-07, 7.84e-07, 5.19e-08, 1.40e-06, 8.79e-07, 1.11e-05, 1.24e-05, 1.33e-05]    [9.58e-07, 1.20e-07, 7.84e-07, 0.00e+00, 0.00e+00, 0.00e+00, 0.00e+00, 0.00e+00, 0.00e+00]    []  \n",
      "31000     [8.65e-08, 2.54e-08, 4.25e-08, 1.11e-07, 1.51e-10, 8.69e-08, 8.12e-07, 2.87e-07, 9.44e-07]    [8.65e-08, 2.54e-08, 4.25e-08, 0.00e+00, 0.00e+00, 0.00e+00, 0.00e+00, 0.00e+00, 0.00e+00]    []  \n",
      "32000     [7.39e-08, 2.10e-08, 4.01e-08, 3.19e-09, 1.19e-08, 8.46e-09, 4.55e-07, 2.77e-07, 4.76e-07]    [7.39e-08, 2.10e-08, 4.01e-08, 0.00e+00, 0.00e+00, 0.00e+00, 0.00e+00, 0.00e+00, 0.00e+00]    []  \n",
      "33000     [2.97e-07, 3.77e-08, 1.72e-07, 3.24e-06, 5.98e-07, 2.88e-06, 8.43e-06, 2.31e-06, 8.33e-06]    [2.97e-07, 3.77e-08, 1.72e-07, 0.00e+00, 0.00e+00, 0.00e+00, 0.00e+00, 0.00e+00, 0.00e+00]    []  \n",
      "34000     [5.89e-08, 1.41e-08, 2.66e-08, 1.32e-07, 1.01e-08, 6.95e-08, 1.42e-06, 1.74e-07, 5.43e-07]    [5.89e-08, 1.41e-08, 2.66e-08, 0.00e+00, 0.00e+00, 0.00e+00, 0.00e+00, 0.00e+00, 0.00e+00]    []  \n",
      "35000     [2.06e-07, 2.31e-08, 1.12e-07, 4.42e-06, 2.90e-07, 4.23e-06, 1.09e-05, 1.40e-06, 1.79e-05]    [2.06e-07, 2.31e-08, 1.12e-07, 0.00e+00, 0.00e+00, 0.00e+00, 0.00e+00, 0.00e+00, 0.00e+00]    []  \n",
      "36000     [4.81e-08, 9.88e-09, 1.70e-08, 7.42e-08, 1.95e-09, 3.78e-08, 5.09e-07, 1.04e-07, 3.12e-07]    [4.81e-08, 9.88e-09, 1.70e-08, 0.00e+00, 0.00e+00, 0.00e+00, 0.00e+00, 0.00e+00, 0.00e+00]    []  \n",
      "37000     [4.91e-08, 7.88e-09, 1.14e-08, 1.61e-08, 9.89e-10, 7.62e-09, 2.00e-07, 8.05e-08, 2.22e-07]    [4.91e-08, 7.88e-09, 1.14e-08, 0.00e+00, 0.00e+00, 0.00e+00, 0.00e+00, 0.00e+00, 0.00e+00]    []  \n",
      "38000     [4.94e-08, 2.34e-08, 9.54e-08, 8.02e-08, 5.18e-10, 5.20e-08, 1.15e-05, 9.22e-07, 1.84e-05]    [4.94e-08, 2.34e-08, 9.54e-08, 0.00e+00, 0.00e+00, 0.00e+00, 0.00e+00, 0.00e+00, 0.00e+00]    []  \n"
     ]
    },
    {
     "name": "stdout",
     "output_type": "stream",
     "text": [
      "39000     [4.10e-08, 7.28e-09, 1.02e-08, 1.83e-10, 3.12e-16, 1.22e-09, 1.19e-07, 5.95e-08, 1.84e-07]    [4.10e-08, 7.28e-09, 1.02e-08, 0.00e+00, 0.00e+00, 0.00e+00, 0.00e+00, 0.00e+00, 0.00e+00]    []  \n",
      "40000     [8.73e-08, 6.33e-09, 2.57e-08, 2.78e-07, 9.94e-08, 3.72e-10, 9.46e-06, 5.99e-07, 1.20e-05]    [8.73e-08, 6.33e-09, 2.57e-08, 0.00e+00, 0.00e+00, 0.00e+00, 0.00e+00, 0.00e+00, 0.00e+00]    []  \n",
      "41000     [9.97e-08, 1.18e-08, 4.26e-08, 1.44e-06, 1.45e-07, 1.03e-06, 4.19e-06, 5.13e-07, 2.15e-06]    [9.97e-08, 1.18e-08, 4.26e-08, 0.00e+00, 0.00e+00, 0.00e+00, 0.00e+00, 0.00e+00, 0.00e+00]    []  \n",
      "42000     [3.54e-08, 8.23e-09, 1.20e-08, 3.98e-07, 9.35e-09, 2.12e-07, 1.81e-06, 8.29e-08, 5.26e-07]    [3.54e-08, 8.23e-09, 1.20e-08, 0.00e+00, 0.00e+00, 0.00e+00, 0.00e+00, 0.00e+00, 0.00e+00]    []  \n",
      "43000     [3.52e-08, 8.20e-09, 1.17e-08, 3.89e-09, 9.52e-09, 8.32e-09, 1.48e-07, 8.08e-08, 2.52e-07]    [3.52e-08, 8.20e-09, 1.17e-08, 0.00e+00, 0.00e+00, 0.00e+00, 0.00e+00, 0.00e+00, 0.00e+00]    []  \n",
      "44000     [3.66e-07, 4.74e-08, 2.17e-07, 1.47e-07, 9.34e-07, 5.70e-07, 3.48e-07, 2.80e-06, 1.50e-06]    [3.66e-07, 4.74e-08, 2.17e-07, 0.00e+00, 0.00e+00, 0.00e+00, 0.00e+00, 0.00e+00, 0.00e+00]    []  \n",
      "45000     [3.05e-08, 6.84e-09, 7.33e-09, 4.79e-09, 2.70e-09, 7.25e-10, 2.87e-07, 5.07e-08, 2.82e-07]    [3.05e-08, 6.84e-09, 7.33e-09, 0.00e+00, 0.00e+00, 0.00e+00, 0.00e+00, 0.00e+00, 0.00e+00]    []  \n",
      "46000     [1.79e-07, 1.73e-08, 8.61e-08, 9.51e-07, 3.37e-07, 1.14e-06, 1.91e-06, 1.06e-06, 2.87e-06]    [1.79e-07, 1.73e-08, 8.61e-08, 0.00e+00, 0.00e+00, 0.00e+00, 0.00e+00, 0.00e+00, 0.00e+00]    []  \n",
      "47000     [9.26e-07, 1.01e-07, 5.18e-07, 4.71e-06, 2.80e-06, 5.51e-06, 8.01e-06, 7.42e-06, 8.62e-06]    [9.26e-07, 1.01e-07, 5.18e-07, 0.00e+00, 0.00e+00, 0.00e+00, 0.00e+00, 0.00e+00, 0.00e+00]    []  \n",
      "48000     [3.59e-08, 6.76e-09, 1.21e-08, 1.71e-07, 4.87e-08, 8.12e-08, 5.55e-06, 3.43e-07, 4.25e-06]    [3.59e-08, 6.76e-09, 1.21e-08, 0.00e+00, 0.00e+00, 0.00e+00, 0.00e+00, 0.00e+00, 0.00e+00]    []  \n",
      "49000     [3.70e-07, 5.17e-08, 2.95e-07, 3.09e-06, 6.14e-07, 6.50e-06, 1.79e-05, 4.09e-06, 5.16e-05]    [3.70e-07, 5.17e-08, 2.95e-07, 0.00e+00, 0.00e+00, 0.00e+00, 0.00e+00, 0.00e+00, 0.00e+00]    []  \n",
      "50000     [2.45e-08, 4.84e-09, 5.85e-09, 1.40e-07, 6.47e-10, 1.43e-07, 2.83e-07, 3.28e-08, 4.94e-07]    [2.45e-08, 4.84e-09, 5.85e-09, 0.00e+00, 0.00e+00, 0.00e+00, 0.00e+00, 0.00e+00, 0.00e+00]    []  \n",
      "51000     [2.19e-08, 4.72e-09, 5.05e-09, 9.09e-11, 7.76e-10, 1.47e-10, 1.99e-07, 3.21e-08, 1.57e-07]    [2.19e-08, 4.72e-09, 5.05e-09, 0.00e+00, 0.00e+00, 0.00e+00, 0.00e+00, 0.00e+00, 0.00e+00]    []  \n",
      "52000     [2.30e-08, 5.01e-09, 7.41e-09, 1.22e-08, 1.09e-08, 1.45e-08, 5.63e-08, 4.63e-08, 1.06e-07]    [2.30e-08, 5.01e-09, 7.41e-09, 0.00e+00, 0.00e+00, 0.00e+00, 0.00e+00, 0.00e+00, 0.00e+00]    []  \n",
      "53000     [1.17e-07, 1.84e-08, 6.89e-08, 1.83e-07, 4.34e-07, 1.47e-08, 6.24e-07, 1.04e-06, 3.23e-07]    [1.17e-07, 1.84e-08, 6.89e-08, 0.00e+00, 0.00e+00, 0.00e+00, 0.00e+00, 0.00e+00, 0.00e+00]    []  \n",
      "54000     [3.45e-08, 9.09e-09, 2.78e-08, 2.84e-07, 8.63e-08, 4.60e-08, 7.65e-06, 4.15e-07, 6.43e-06]    [3.45e-08, 9.09e-09, 2.78e-08, 0.00e+00, 0.00e+00, 0.00e+00, 0.00e+00, 0.00e+00, 0.00e+00]    []  \n",
      "55000     [2.91e-08, 5.63e-09, 1.34e-08, 1.20e-06, 4.46e-08, 1.08e-06, 1.30e-06, 1.34e-07, 2.14e-06]    [2.91e-08, 5.63e-09, 1.34e-08, 0.00e+00, 0.00e+00, 0.00e+00, 0.00e+00, 0.00e+00, 0.00e+00]    []  \n",
      "56000     [1.96e-08, 3.09e-09, 4.32e-09, 7.62e-08, 2.13e-09, 4.59e-10, 1.15e-06, 5.32e-08, 8.73e-07]    [1.96e-08, 3.09e-09, 4.32e-09, 0.00e+00, 0.00e+00, 0.00e+00, 0.00e+00, 0.00e+00, 0.00e+00]    []  \n",
      "57000     [1.46e-07, 1.91e-08, 8.30e-08, 1.02e-07, 4.39e-07, 4.94e-07, 4.65e-07, 1.08e-06, 1.83e-06]    [1.46e-07, 1.91e-08, 8.30e-08, 0.00e+00, 0.00e+00, 0.00e+00, 0.00e+00, 0.00e+00, 0.00e+00]    []  \n",
      "58000     [9.50e-08, 9.96e-09, 4.19e-08, 7.58e-06, 3.13e-07, 4.63e-06, 1.01e-05, 6.50e-07, 4.89e-06]    [9.50e-08, 9.96e-09, 4.19e-08, 0.00e+00, 0.00e+00, 0.00e+00, 0.00e+00, 0.00e+00, 0.00e+00]    []  \n",
      "59000     [1.92e-08, 4.20e-09, 9.97e-09, 3.66e-08, 1.57e-08, 1.77e-07, 3.53e-07, 9.14e-08, 1.74e-06]    [1.92e-08, 4.20e-09, 9.97e-09, 0.00e+00, 0.00e+00, 0.00e+00, 0.00e+00, 0.00e+00, 0.00e+00]    []  \n",
      "60000     [1.70e-08, 2.70e-09, 4.52e-09, 8.41e-08, 6.86e-09, 6.36e-08, 2.95e-07, 2.71e-08, 1.64e-07]    [1.70e-08, 2.70e-09, 4.52e-09, 0.00e+00, 0.00e+00, 0.00e+00, 0.00e+00, 0.00e+00, 0.00e+00]    []  \n",
      "61000     [2.74e-08, 3.33e-09, 8.15e-09, 4.29e-09, 4.09e-08, 1.38e-08, 4.51e-07, 1.22e-07, 8.40e-07]    [2.74e-08, 3.33e-09, 8.15e-09, 0.00e+00, 0.00e+00, 0.00e+00, 0.00e+00, 0.00e+00, 0.00e+00]    []  \n",
      "62000     [2.20e-08, 3.77e-09, 9.10e-09, 1.09e-08, 4.05e-08, 6.05e-08, 4.20e-08, 7.81e-08, 1.95e-07]    [2.20e-08, 3.77e-09, 9.10e-09, 0.00e+00, 0.00e+00, 0.00e+00, 0.00e+00, 0.00e+00, 0.00e+00]    []  \n",
      "63000     [1.45e-07, 1.39e-08, 6.31e-08, 3.26e-07, 4.02e-07, 2.79e-08, 6.65e-07, 8.50e-07, 2.47e-07]    [1.45e-07, 1.39e-08, 6.31e-08, 0.00e+00, 0.00e+00, 0.00e+00, 0.00e+00, 0.00e+00, 0.00e+00]    []  \n",
      "64000     [6.21e-08, 4.86e-09, 2.42e-08, 2.19e-06, 1.23e-07, 4.80e-07, 9.27e-06, 6.41e-07, 8.14e-06]    [6.21e-08, 4.86e-09, 2.42e-08, 0.00e+00, 0.00e+00, 0.00e+00, 0.00e+00, 0.00e+00, 0.00e+00]    []  \n",
      "65000     [1.40e-08, 2.20e-09, 3.77e-09, 2.78e-09, 4.10e-10, 1.87e-09, 3.59e-08, 1.04e-08, 4.39e-08]    [1.40e-08, 2.20e-09, 3.77e-09, 0.00e+00, 0.00e+00, 0.00e+00, 0.00e+00, 0.00e+00, 0.00e+00]    []  \n",
      "66000     [1.68e-08, 1.83e-09, 4.09e-09, 4.75e-08, 1.70e-10, 4.42e-08, 6.68e-07, 2.16e-08, 1.49e-07]    [1.68e-08, 1.83e-09, 4.09e-09, 0.00e+00, 0.00e+00, 0.00e+00, 0.00e+00, 0.00e+00, 0.00e+00]    []  \n",
      "67000     [2.41e-08, 1.95e-09, 7.62e-09, 1.55e-07, 1.87e-08, 1.14e-07, 5.87e-07, 8.51e-08, 3.08e-07]    [2.41e-08, 1.95e-09, 7.62e-09, 0.00e+00, 0.00e+00, 0.00e+00, 0.00e+00, 0.00e+00, 0.00e+00]    []  \n",
      "68000     [7.79e-07, 8.31e-08, 4.49e-07, 4.43e-06, 3.01e-06, 8.76e-06, 5.08e-06, 6.19e-06, 2.48e-05]    [7.79e-07, 8.31e-08, 4.49e-07, 0.00e+00, 0.00e+00, 0.00e+00, 0.00e+00, 0.00e+00, 0.00e+00]    []  \n",
      "69000     [3.64e-08, 3.28e-09, 1.36e-08, 1.78e-08, 6.23e-08, 1.38e-07, 1.93e-06, 1.95e-07, 2.18e-06]    [3.64e-08, 3.28e-09, 1.36e-08, 0.00e+00, 0.00e+00, 0.00e+00, 0.00e+00, 0.00e+00, 0.00e+00]    []  \n",
      "70000     [4.96e-08, 7.44e-09, 2.94e-08, 1.02e-07, 1.20e-07, 4.22e-07, 8.03e-06, 4.97e-07, 8.37e-06]    [4.96e-08, 7.44e-09, 2.94e-08, 0.00e+00, 0.00e+00, 0.00e+00, 0.00e+00, 0.00e+00, 0.00e+00]    []  \n",
      "\n",
      "Best model at step 65000:\n",
      "  train loss: 1.15e-07\n",
      "  test loss: 2.00e-08\n",
      "  test metric: []\n",
      "\n",
      "'train' took 595.923846 s\n",
      "\n"
     ]
    }
   ],
   "source": [
    "# define FNN architecture and compile\n",
    "net = dde.maps.FNN([1] + [20] * 3 + [3], \"tanh\", \"Glorot uniform\")\n",
    "model = dde.Model(data, net)\n",
    "model.compile(\"adam\", lr=0.001)\n",
    "\n",
    "# callbacks for storing results, and outputting the values of C1, C2 subject to parameter estimation (model calibration)\n",
    "fnamevar = \"variables.dat\"\n",
    "variable = dde.callbacks.VariableValue(\n",
    "    [C1,C2], \n",
    "    period=1,\n",
    "    filename=fnamevar\n",
    ")\n",
    "\n",
    "losshistory, train_state = model.train(epochs=70000, callbacks=[variable])"
   ]
  },
  {
   "cell_type": "markdown",
   "metadata": {},
   "source": [
    "Plot identified parameters"
   ]
  },
  {
   "cell_type": "code",
   "execution_count": 72,
   "metadata": {},
   "outputs": [
    {
     "data": {
      "image/png": "[encoded data removed]",
      "text/plain": [
       "<Figure size 432x288 with 1 Axes>"
      ]
     },
     "metadata": {
      "needs_background": "light"
     },
     "output_type": "display_data"
    }
   ],
   "source": [
    "# reopen saved data using callbacks in fnamevar \n",
    "lines = open(fnamevar, \"r\").readlines()\n",
    "\n",
    "# read output data in fnamevar (this line is a long story...)\n",
    "Chat = np.array([np.fromstring(min(re.findall(re.escape('[')+\"(.*?)\"+re.escape(']'),line), key=len), sep=',') for line in lines])\n",
    "\n",
    "l,c = Chat.shape\n",
    "\n",
    "plt.plot(range(l),Chat[:,0],'r-')\n",
    "plt.plot(range(l),Chat[:,1],'k-')\n",
    "plt.plot(range(l),np.ones(Chat[:,0].shape)*C1true,'r--')\n",
    "plt.plot(range(l),np.ones(Chat[:,1].shape)*C2true,'k--')\n",
    "plt.legend(['C1hat','C2hat','True C1','True C2'],loc = \"right\")\n",
    "plt.xlabel('Epoch')\n",
    "plt.show()"
   ]
  },
  {
   "cell_type": "code",
   "execution_count": 78,
   "metadata": {},
   "outputs": [
    {
     "name": "stdout",
     "output_type": "stream",
     "text": [
      "Predicting...\n",
      "'predict' took 0.001254 s\n",
      "\n"
     ]
    },
    {
     "data": {
      "image/png": "[encoded data removed]",
      "text/plain": [
       "<Figure size 432x288 with 1 Axes>"
      ]
     },
     "metadata": {
      "needs_background": "light"
     },
     "output_type": "display_data"
    }
   ],
   "source": [
    "yhat = model.predict(t_test)\n",
    "\n",
    "plt.plot(t_test,x_true,'k',observe_t, observe_z,'-',t_test, yhat,'--')\n",
    "plt.ylabel('Persons/Population')\n",
    "plt.xlabel('Time [days]')\n",
    "plt.legend(['$S_{true}$','$I_{true}$','$R_{true}$','$S_{data}$','$I_{data}$','$R_{data}$','$S_h$','$I_h$','$R_h$'])\n",
    "plt.title('Training data vs. PINN solution')\n",
    "plt.show()"
   ]
  }
 ],
 "metadata": {
  "kernelspec": {
   "display_name": "Python 3 (ipykernel)",
   "language": "python",
   "name": "python3"
  },
  "language_info": {
   "codemirror_mode": {
    "name": "ipython",
    "version": 3
   },
   "file_extension": ".py",
   "mimetype": "text/x-python",
   "name": "python",
   "nbconvert_exporter": "python",
   "pygments_lexer": "ipython3",
   "version": "3.11.5"
  }
 },
 "nbformat": 4,
 "nbformat_minor": 2
}
