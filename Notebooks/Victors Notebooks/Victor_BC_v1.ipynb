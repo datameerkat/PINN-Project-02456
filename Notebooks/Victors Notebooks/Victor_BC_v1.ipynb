{
 "cells": [
  {
   "cell_type": "code",
   "execution_count": 81,
   "id": "8e44318e",
   "metadata": {},
   "outputs": [],
   "source": [
    "import tqdm as notebook_tqdm\n",
    "import numpy as np\n",
    "import matplotlib.pyplot as plt\n",
    "\n",
    "import torch\n",
    "from torch import nn\n",
    "import torch.optim as optim\n",
    "import torch.nn.init as init\n",
    "\n",
    "from sklearn.metrics import r2_score\n",
    "\n",
    "#import torch.nn.functional as F\n",
    "#\n",
    "#import torch.nn.init as init\n",
    "\n",
    "#%matplotlib inline\n",
    "#import matplotlib\n",
    "\n",
    "#from torch.nn.parameter import Parameter"
   ]
  },
  {
   "cell_type": "code",
   "execution_count": 101,
   "id": "c66316ca",
   "metadata": {},
   "outputs": [],
   "source": [
    "# Data Parameters\n",
    "minx = 0\n",
    "maxx = 10\n",
    "n_samples_volume = 500\n",
    "n_samples_boundary = 500\n",
    "n_samples = n_samples_volume + n_samples_boundary"
   ]
  },
  {
   "cell_type": "code",
   "execution_count": 102,
   "id": "07a32512",
   "metadata": {},
   "outputs": [],
   "source": [
    "# Right hand side function f(x) of the PDE\n",
    "def Function_f(x = 0, y = 0, z = 0):\n",
    "    \n",
    "    # Returning for the Poisson Equation in one dimension, u''(x) = f(x) \n",
    "    return Function_u_xx(x,y,z)"
   ]
  },
  {
   "cell_type": "code",
   "execution_count": 103,
   "id": "b332c9dd",
   "metadata": {},
   "outputs": [],
   "source": [
    "# Hidden function u(x)\n",
    "def Function_u(x = 0, y = 0, z = 0):\n",
    "    #return 1/np.sqrt(x**2 + y**2 + z**2)\n",
    "    return x**3 + 2*x + 5\n",
    "\n",
    "# Diff of hidden function u'(x)\n",
    "def Function_u_x(x = 0, y = 0, z = 0):\n",
    "    return 3*x**2 + 2\n",
    "\n",
    "# Double diff of hidden function u''(x)\n",
    "def Function_u_xx(x = 0, y = 0, z = 0):\n",
    "    return 6*x"
   ]
  },
  {
   "cell_type": "code",
   "execution_count": 104,
   "id": "2b041d1b",
   "metadata": {},
   "outputs": [],
   "source": [
    "# Sampling from the function\n",
    "def Sample(x = 0, y = 0, z = 0):\n",
    "    return Function_u_xx(x,y,z)"
   ]
  },
  {
   "cell_type": "code",
   "execution_count": null,
   "id": "7422047c",
   "metadata": {},
   "outputs": [],
   "source": [
    "def Sample_boundary(x = 0, y = 0, z = 0):\n",
    "    if ( abs(np.sqrt(x**2 + y**2 + z**2) - minx) <= 0.001):\n",
    "        # On the boundary\n",
    "        return Function_u_x(x,y,z)"
   ]
  },
  {
   "cell_type": "code",
   "execution_count": 105,
   "id": "535edd56",
   "metadata": {},
   "outputs": [],
   "source": [
    "x = np.arange(minx, maxx, (maxx-minx)/n_samples_volume)\n",
    "\n",
    "x = np.append(x, np.full(int(n_samples_boundary/2), minx))\n",
    "x = np.append(x, np.full(int(n_samples_boundary/2), maxx))\n",
    "\n",
    "y = np.zeros(len(x))\n",
    "y_bound = np.zeros(len(x))\n",
    "u = np.zeros(len(x))\n",
    "u_x = np.zeros(len(x))\n",
    "u_xx = np.zeros(len(x))\n",
    "\n",
    "for i in range(len(x)):\n",
    "    # x On the boundary\n",
    "    if ( abs(np.sqrt(x**2 + y**2 + z**2) - minx) <= 0.001):\n",
    "        y_bound[i] = Sample_boundary(x[i])\n",
    "    y[i] = Sample(x[i])\n",
    "    u[i] = Function_u(x[i])\n",
    "    u_x[i] = Function_u_x(x[i])\n",
    "    u_xx[i] = Function_u_xx(x[i])\n",
    "\n",
    "data = np.empty([n_samples, 3])\n",
    "data[:,0] = x\n",
    "data[:,1] = y\n",
    "data[:,2] = y_bound\n",
    "\n",
    "np.random.shuffle(data)"
   ]
  },
  {
   "cell_type": "code",
   "execution_count": 106,
   "id": "4a238daa",
   "metadata": {},
   "outputs": [
    {
     "data": {
      "image/png": "[encoded data removed]",
      "text/plain": [
       "<Figure size 640x480 with 1 Axes>"
      ]
     },
     "metadata": {},
     "output_type": "display_data"
    }
   ],
   "source": [
    "# Plotting reference function\n",
    "plt.figure()\n",
    "plt.scatter(data[:,0], data[:,1], s = 1)\n",
    "plt.title(\"u(x) vs x\")\n",
    "plt.xlabel(\"x\")\n",
    "plt.ylabel(\"u(x)\")\n",
    "plt.show()"
   ]
  },
  {
   "cell_type": "code",
   "execution_count": 74,
   "id": "47e2f679",
   "metadata": {},
   "outputs": [
    {
     "name": "stdout",
     "output_type": "stream",
     "text": [
      "Number of training data sets: 800\n",
      "Number of test data sets: 200\n",
      "Number of validation data sets: -1\n",
      "Dimensions of data sets: (1000, 2)\n",
      "Dimensions of training data sets: (800, 2)\n",
      "Dimensions of test data sets: (199, 2)\n",
      "Dimensions of validation data sets: (0, 2)\n"
     ]
    }
   ],
   "source": [
    "# Splitting data into training, testing and validation\n",
    "percentage_train = 0.8\n",
    "percentage_test = 0.2\n",
    "percentage_validation = 1 - percentage_train - percentage_test\n",
    "\n",
    "N_train = int(np.floor(percentage_train*np.size(data[:,0])))\n",
    "N_test = int(np.floor(percentage_test*np.size(data[:,0])))\n",
    "N_validation = int(np.floor(percentage_validation*np.size(data[:,0])))\n",
    "print(\"Number of training data sets:\", N_train)\n",
    "print(\"Number of test data sets:\", N_test)\n",
    "print(\"Number of validation data sets:\", N_validation)\n",
    "\n",
    "train = data[:N_train,:]\n",
    "train_x = data[:N_train - 1, 0]\n",
    "train_y = data[:N_train - 1, 1]\n",
    "\n",
    "test = data[N_train: N_train + N_test - 1,:]\n",
    "test_x = data[N_train: N_train + N_test - 1, 0]\n",
    "test_y = data[N_train: N_train + N_test - 1, 1]\n",
    "\n",
    "validation = data[N_train + N_test: , :]\n",
    "validation_x = data[N_train + N_test: , 0]\n",
    "vaildation_y = data[N_train + N_test: , 1]\n",
    "\n",
    "print(\"Dimensions of data sets:\", np.shape(data))\n",
    "print(\"Dimensions of training data sets:\", np.shape(train))\n",
    "print(\"Dimensions of test data sets:\", np.shape(test))\n",
    "print(\"Dimensions of validation data sets:\", np.shape(validation))"
   ]
  },
  {
   "cell_type": "code",
   "execution_count": 75,
   "id": "a47fa519",
   "metadata": {},
   "outputs": [],
   "source": [
    "#Change numpy array to tensor\n",
    "train_x = torch.from_numpy(train[:,0]).unsqueeze(1).float()\n",
    "train_y = torch.from_numpy(train[:,1]).unsqueeze(1).float()\n",
    "test_x = torch.from_numpy(test[:,0]).unsqueeze(1).float()\n",
    "test_y = torch.from_numpy(test[:,1]).unsqueeze(1).float()"
   ]
  },
  {
   "cell_type": "code",
   "execution_count": 76,
   "id": "daa11d9d",
   "metadata": {},
   "outputs": [],
   "source": [
    "# define network architecture\n",
    "input_dim = 1\n",
    "output_dim = 1\n",
    "num_hidden = 300\n",
    "\n",
    "class Net(nn.Module):\n",
    "    def __init__(self, num_hidden):\n",
    "        super().__init__()\n",
    "        self.linear_relu_stack = nn.Sequential(\n",
    "            nn.Linear(input_dim, num_hidden),\n",
    "            nn.ReLU(),\n",
    "            nn.Linear(num_hidden, num_hidden),\n",
    "            nn.ReLU(),\n",
    "            nn.Linear(num_hidden, output_dim),\n",
    "        )\n",
    "\n",
    "    def forward(self, x):\n",
    "        y_out = self.linear_relu_stack(x)\n",
    "        return y_out\n",
    "    \n",
    "net = Net(num_hidden)\n",
    "    \n",
    "# hyperparameters\n",
    "learning_rate = 1e-5\n",
    "batch_size = 50\n",
    "num_epochs = 1000\n",
    "\n",
    "#loss\n",
    "loss_fn = nn.MSELoss()\n",
    "\n",
    "#optimizer\n",
    "optimizer = optim.Adam(net.parameters(), lr=learning_rate)"
   ]
  },
  {
   "cell_type": "code",
   "execution_count": 77,
   "id": "0856f844",
   "metadata": {},
   "outputs": [
    {
     "name": "stdout",
     "output_type": "stream",
     "text": [
      "Epoch  1 : Train Loss 1854.427002 , Train r2 -1.268857, Test r2 -1.564162\n",
      "Epoch 51 : Train Loss 1020.363464 , Train r2 -0.244795, Test r2 -0.388823\n",
      "Epoch 101 : Train Loss 354.709808 , Train r2 0.570201, Test r2 0.534560\n",
      "Epoch 151 : Train Loss 70.478409 , Train r2 0.914784, Test r2 0.908767\n",
      "Epoch 201 : Train Loss 31.372686 , Train r2 0.961492, Test r2 0.949741\n",
      "Epoch 251 : Train Loss 28.915136 , Train r2 0.964460, Test r2 0.951076\n",
      "Epoch 301 : Train Loss 26.829632 , Train r2 0.967030, Test r2 0.954231\n",
      "Epoch 351 : Train Loss 24.377493 , Train r2 0.970052, Test r2 0.958069\n",
      "Epoch 401 : Train Loss 21.624012 , Train r2 0.973443, Test r2 0.962377\n",
      "Epoch 451 : Train Loss 18.630337 , Train r2 0.977128, Test r2 0.967099\n",
      "Epoch 501 : Train Loss 15.707867 , Train r2 0.980721, Test r2 0.971761\n",
      "Epoch 551 : Train Loss 13.136635 , Train r2 0.983878, Test r2 0.975894\n",
      "Epoch 601 : Train Loss 11.041203 , Train r2 0.986450, Test r2 0.979307\n",
      "Epoch 651 : Train Loss 9.425246 , Train r2 0.988432, Test r2 0.982007\n",
      "Epoch 701 : Train Loss 8.227632 , Train r2 0.989901, Test r2 0.984079\n",
      "Epoch 751 : Train Loss 7.333451 , Train r2 0.990998, Test r2 0.985687\n",
      "Epoch 801 : Train Loss 6.624987 , Train r2 0.991867, Test r2 0.987000\n",
      "Epoch 851 : Train Loss 6.017836 , Train r2 0.992613, Test r2 0.988157\n",
      "Epoch 901 : Train Loss 5.459726 , Train r2 0.993299, Test r2 0.989221\n",
      "Epoch 951 : Train Loss 4.930437 , Train r2 0.993950, Test r2 0.990232\n"
     ]
    },
    {
     "data": {
      "text/plain": [
       "(Text(0.5, 0, 'Updates'), Text(0, 0.5, 'R2'))"
      ]
     },
     "execution_count": 77,
     "metadata": {},
     "output_type": "execute_result"
    },
    {
     "data": {
      "image/png": "[encoded data removed]",
      "text/plain": [
       "<Figure size 640x480 with 1 Axes>"
      ]
     },
     "metadata": {},
     "output_type": "display_data"
    }
   ],
   "source": [
    "# train network\n",
    "\n",
    "#getting epoch sizes\n",
    "num_samples_train = train_x.shape[0]\n",
    "num_batches_train = num_samples_train // batch_size\n",
    "num_samples_test = test_x.shape[0]\n",
    "num_batches_test = num_samples_test // batch_size\n",
    "\n",
    "# setting up lists for handling loss/accuracy\n",
    "train_acc, train_loss = [], []\n",
    "test_acc, test_loss = [], []\n",
    "cur_loss = 0\n",
    "losses = []\n",
    "\n",
    "get_slice = lambda i, size: range(i * size, (i + 1) * size) #get slices for each batch\n",
    "\n",
    "for epoch in range(num_epochs):\n",
    "    # Forward -> Backprob -> Update params\n",
    "    ## Train\n",
    "    cur_loss = 0\n",
    "    net.train()\n",
    "    for i in range(num_batches_train):\n",
    "        optimizer.zero_grad()\n",
    "        slce = get_slice(i, batch_size)\n",
    "        output = net(train_x[slce])\n",
    "\n",
    "        # compute gradients given loss\n",
    "        y_batch = train_y[slce]\n",
    "        batch_loss = loss_fn(output, y_batch)\n",
    "        batch_loss.backward()\n",
    "        optimizer.step()\n",
    "\n",
    "        cur_loss += batch_loss\n",
    "    losses.append(cur_loss / batch_size)\n",
    "\n",
    "    net.eval()\n",
    "    ### Evaluate training\n",
    "    train_preds, train_targs = [], []\n",
    "    for i in range(num_batches_train):\n",
    "        slce = get_slice(i, batch_size)\n",
    "        output = net(train_x[slce])\n",
    "\n",
    "        preds = output.squeeze(1)\n",
    "\n",
    "        train_targs += list(train_y[slce].numpy())\n",
    "        train_preds += list(preds.data.numpy())\n",
    "\n",
    "    ### Evaluate test\n",
    "    test_preds, test_targs = [], []\n",
    "    for i in range(num_batches_test):\n",
    "        slce = get_slice(i, batch_size)\n",
    "\n",
    "        output = net(test_x[slce])\n",
    "        preds = output.squeeze(1)\n",
    "        test_targs += list(test_y[slce].numpy())\n",
    "        test_preds += list(preds.data.numpy())\n",
    "\n",
    "\n",
    "    train_r2 = r2_score(train_targs, train_preds)\n",
    "    test_r2 = r2_score(test_targs, test_preds)\n",
    "\n",
    "    train_acc.append(train_r2)\n",
    "    test_acc.append(test_r2)\n",
    "\n",
    "    if epoch % 50 == 0:\n",
    "        print(\"Epoch %2i : Train Loss %f , Train r2 %f, Test r2 %f\" % (\n",
    "                epoch+1, losses[-1], train_r2, test_r2))\n",
    "\n",
    "epoch = np.arange(len(train_acc))\n",
    "plt.figure()\n",
    "plt.plot(epoch, train_acc, 'r', epoch, test_acc, 'b')\n",
    "plt.legend(['Train acc','Test acc'])\n",
    "plt.xlabel('Updates'), plt.ylabel('R2')"
   ]
  },
  {
   "cell_type": "code",
   "execution_count": 78,
   "id": "6ef45b4b",
   "metadata": {},
   "outputs": [
    {
     "data": {
      "text/plain": [
       "<matplotlib.legend.Legend at 0x184266dd948>"
      ]
     },
     "execution_count": 78,
     "metadata": {},
     "output_type": "execute_result"
    },
    {
     "data": {
      "image/png": "[encoded data removed]",
      "text/plain": [
       "<Figure size 1000x500 with 1 Axes>"
      ]
     },
     "metadata": {},
     "output_type": "display_data"
    }
   ],
   "source": [
    " # evaluate network at different points, show results\n",
    "test_y_eval = net(test_x) #predictes y values of test set of the trained model\n",
    "test_y_eval_np = test_y_eval.detach().numpy() #converts it to numpy array\n",
    "\n",
    "# plot analytical solution vs predicted values of test set\n",
    "plt.figure(figsize=(10, 5))\n",
    "plt.plot(test[:,0], test[:,1], color = \"blue\", marker='o', linestyle='none', markersize=0.5)\n",
    "plt.plot(test[:,0], test_y_eval_np, color = \"red\", marker='o', linestyle='none', markersize=0.5)\n",
    "plt.title(\"Predicted values of NN\")\n",
    "plt.legend([\"Analytical\", \"Neural net\"], loc=\"lower left\")"
   ]
  },
  {
   "cell_type": "code",
   "execution_count": null,
   "id": "7fa21561",
   "metadata": {},
   "outputs": [],
   "source": []
  }
 ],
 "metadata": {
  "kernelspec": {
   "display_name": "Python 3 (ipykernel)",
   "language": "python",
   "name": "python3"
  },
  "language_info": {
   "codemirror_mode": {
    "name": "ipython",
    "version": 3
   },
   "file_extension": ".py",
   "mimetype": "text/x-python",
   "name": "python",
   "nbconvert_exporter": "python",
   "pygments_lexer": "ipython3",
   "version": "3.7.6"
  }
 },
 "nbformat": 4,
 "nbformat_minor": 5
}
