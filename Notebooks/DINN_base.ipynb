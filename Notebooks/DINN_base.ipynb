{
 "cells": [
  {
   "cell_type": "markdown",
   "id": "b250a993",
<<<<<<< HEAD
   "metadata": {},
=======
   "metadata": {
    "id": "b250a993"
   },
>>>>>>> 649080f60549bba594a8087dd62902740340b719
   "source": [
    "## PINN for predicting a SIR model\n",
    "This is the base case of modeling a SIR model using a Feed Forward Neural Network."
   ]
  },
  {
   "cell_type": "code",
   "execution_count": 1,
   "id": "9e9ebd35",
<<<<<<< HEAD
   "metadata": {},
=======
   "metadata": {
    "id": "9e9ebd35"
   },
>>>>>>> 649080f60549bba594a8087dd62902740340b719
   "outputs": [],
   "source": [
    "# import libraries\n",
    "import matplotlib\n",
    "from matplotlib import cm\n",
    "from matplotlib.ticker import LinearLocator\n",
    "from scipy.interpolate import griddata\n",
    "import numpy as np\n",
    "import matplotlib.pyplot as plt\n",
    "import torch\n",
    "from torch import nn\n",
    "import torch.optim as optim\n",
    "import torch.nn.functional as F\n",
    "from torch.utils.data import DataLoader\n",
    "from sklearn.metrics import r2_score\n",
    "import math"
   ]
  },
  {
   "cell_type": "markdown",
   "id": "313ac5fb-2d17-4360-aaf7-eefe9d754914",
<<<<<<< HEAD
   "metadata": {},
=======
   "metadata": {
    "id": "313ac5fb-2d17-4360-aaf7-eefe9d754914"
   },
>>>>>>> 649080f60549bba594a8087dd62902740340b719
   "source": [
    "### Define time, initial conditions and parameters"
   ]
  },
  {
   "cell_type": "code",
   "execution_count": 2,
   "id": "a7ab05ff-211b-415c-88b5-d2cd39d2290f",
<<<<<<< HEAD
   "metadata": {},
=======
   "metadata": {
    "id": "a7ab05ff-211b-415c-88b5-d2cd39d2290f"
   },
>>>>>>> 649080f60549bba594a8087dd62902740340b719
   "outputs": [],
   "source": [
    "# define amount of days being predicted and create time tensor\n",
    "t_days = 500\n",
    "t_tensor = torch.linspace(0, t_days, t_days+1, requires_grad = True).view(-1, 1)\n",
<<<<<<< HEAD
    "t_0 = torch.tensor([0]).view(-1,1)\n",
=======
    "t_0 = torch.tensor([0], dtype=torch.float32).view(-1,1)\n",
>>>>>>> 649080f60549bba594a8087dd62902740340b719
    "\n",
    "#define initial conditions for SIR model\n",
    "S_0 = 9999\n",
    "I_0 = 1\n",
    "R_0 = 0\n",
<<<<<<< HEAD
    "\n",
    "#define model parameters\n",
    "alpha = 1\n",
    "beta = 1"
=======
    "N = S_0 + I_0 + R_0\n",
    "\n",
    "#define model parameters\n",
    "alpha = 0.05\n",
    "beta = 0.005"
>>>>>>> 649080f60549bba594a8087dd62902740340b719
   ]
  },
  {
   "cell_type": "code",
   "execution_count": 3,
<<<<<<< HEAD
   "id": "2d14d397-5e6b-44fe-8e36-32fac5dc97bb",
   "metadata": {},
=======
   "id": "a2d8634e-c78c-4a24-87f5-36a70c8ba636",
   "metadata": {
    "id": "a2d8634e-c78c-4a24-87f5-36a70c8ba636"
   },
   "outputs": [],
   "source": [
    "def SIR_numerical(t_array):\n",
    "    # Initialize arrays of data\n",
    "    # S: Susceptibles, I: Infected/Infectious, R: Recovered/Removed\n",
    "    I_array = np.zeros(t_days + 1)\n",
    "    S_array = np.zeros(t_days + 1)\n",
    "    R_array = np.zeros(t_days + 1)\n",
    "    N_array = np.zeros(t_days + 1)\n",
    "\n",
    "    # Initialize values. Population is sucseptible, small amount infected and 0 recovered\n",
    "    # I: Infected is typically first\n",
    "    I_init = 1\n",
    "    S_init = N - I_init\n",
    "    R_init = 0\n",
    "\n",
    "    I_array[0] = I_init\n",
    "    S_array[0] = S_init\n",
    "    R_array[0] = R_init\n",
    "    N_array[0] = N\n",
    "\n",
    "    # Number of days between data points\n",
    "    dt = 1\n",
    "\n",
    "    for i in range(1, t_days + 1):\n",
    "        I = I_array[i-1]\n",
    "        S = S_array[i-1]\n",
    "        R = R_array[i-1]\n",
    "\n",
    "        dSdt = -alpha*(S*I)/N\n",
    "        dIdt = alpha*(S*I)/N - beta*I\n",
    "        dRdt = beta*I\n",
    "\n",
    "        S_array[i] = S + dt*dSdt\n",
    "        I_array[i] = I + dt*dIdt\n",
    "        R_array[i] = R + dt*dRdt\n",
    "        N_array[i] = S + I + R\n",
    "\n",
    "    return S_array, I_array, R_array"
   ]
  },
  {
   "cell_type": "code",
   "execution_count": 4,
   "id": "6f18a558-3494-4e81-9490-407617c376ed",
   "metadata": {
    "id": "6f18a558-3494-4e81-9490-407617c376ed"
   },
   "outputs": [],
   "source": [
    "# compute numerical solution for loss_obs\n",
    "t_array = np.arange(0, t_days + 1, 1)\n",
    "S_array, I_array, R_array = SIR_numerical(t_array)\n",
    "S_obs = torch.tensor(S_array, dtype=torch.float32, requires_grad=True).view(-1,1)\n",
    "I_obs = torch.tensor(I_array, dtype=torch.float32, requires_grad=True).view(-1,1)\n",
    "R_obs = torch.tensor(R_array, dtype=torch.float32, requires_grad=True).view(-1,1)\n",
    "SIR_obs = torch.cat((S_obs, I_obs, R_obs), 1)"
   ]
  },
  {
   "cell_type": "code",
   "execution_count": 5,
   "id": "2d14d397-5e6b-44fe-8e36-32fac5dc97bb",
   "metadata": {
    "id": "2d14d397-5e6b-44fe-8e36-32fac5dc97bb"
   },
>>>>>>> 649080f60549bba594a8087dd62902740340b719
   "outputs": [],
   "source": [
    "def loss_ode(net, t):\n",
    "    SIR = net(t)\n",
<<<<<<< HEAD
    "    print(SIR.size())\n",
    "    \n",
    "    # Calculate derivates\n",
    "    dSdt = torch.autograd.grad(SIR[:,0], t, grad_outputs=SIR[:,0], create_graph=True)[0]\n",
    "    dIdt = torch.autograd.grad(SIR[:,1], t, grad_outputs=SIR[:,1], create_graph=True)[0]\n",
    "    dRdt = torch.autograd.grad(SIR[:,2], t, grad_outputs=SIR[:,2], create_graph=True)[0]\n",
    "    print(dSdt.size())\n",
    "    \n",
    "    # Calculate the residuals using vectorized operations\n",
    "    S, I, R = SIR[:, 0], SIR[:, 1], SIR[:, 2]\n",
    "    S_r = dSdt - (- beta * S * I)\n",
    "    I_r = dIdt - (beta * S * I - alpha * I)\n",
    "    R_r = dRdt - (alpha * I)\n",
    "    \n",
    "    # Combine the residuals into a single tensor and calculate the mean squared error\n",
    "    residuals = torch.cat((S_r, I_r, R_r))\n",
    "    loss_ode = torch.mean(residuals**2)\n",
=======
    "\n",
    "    # Calculate derivates\n",
    "    dSdt = torch.autograd.grad(SIR[:,0], t, grad_outputs=torch.ones_like(SIR[:,0]), create_graph=True)[0]\n",
    "    dIdt = torch.autograd.grad(SIR[:,1], t, grad_outputs=torch.ones_like(SIR[:,1]), create_graph=True)[0]\n",
    "    dRdt = torch.autograd.grad(SIR[:,2], t, grad_outputs=torch.ones_like(SIR[:,2]), create_graph=True)[0]\n",
    "\n",
    "    # Calculate the residuals using vectorized operations\n",
    "    S, I, R = SIR[:, 0], SIR[:, 1], SIR[:, 2]\n",
    "\n",
    "    S, I, R = SIR[:, 0], SIR[:, 1], SIR[:, 2]\n",
    "    S_r = dSdt - (- beta * S * I)\n",
    "    I_r = dIdt - (beta * S * I - alpha * I)\n",
    "    R_r = dRdt - (alpha * I)\n",
    "\n",
    "    # Combine the residuals into a single tensor and calculate the mean squared error\n",
    "    residuals = torch.cat((S_r, I_r, R_r))\n",
    "    loss_ode_squared = torch.mean(residuals**2)\n",
    "    loss_ode = torch.sqrt(loss_ode_squared)\n",
    "\n",
    "    ##different approach for calculation\n",
    "    #S_E = torch.tensor((- beta * S * I)).view(-1, 1)\n",
    "    #I_E = torch.tensor((beta * S * I - alpha * I)).view(-1, 1)\n",
    "    #R_E = torch.tensor((alpha * I)).view(-1, 1)\n",
    "    #S_r = torch.nn.functional.mse_loss(dSdt,S_E)\n",
    "    #I_r = torch.nn.functional.mse_loss(dIdt,I_E)\n",
    "    #R_r = torch.nn.functional.mse_loss(dRdt,R_E)\n",
    "    #loss_ode = (S_r + I_r + R_r)/3\n",
    "\n",
>>>>>>> 649080f60549bba594a8087dd62902740340b719
    "    return loss_ode\n",
    "\n",
    "\n",
    "#loss function for initial conditoons of S, I and R\n",
    "def loss_ic(net):\n",
    "    SIR_t0 = net(t_0)\n",
    "    loss_ic_squared = (SIR_t0[:, 0]-S_0)**2 + (SIR_t0[:, 1]-I_0)**2 + (SIR_t0[:, 2]-R_0)**2\n",
    "    loss_ic = torch.sqrt(loss_ic_squared)/3\n",
    "    return loss_ic\n",
    "\n",
    "def loss_obs(net, t, SIR_obs):\n",
<<<<<<< HEAD
    "    ## still has to be done##\n",
=======
    "    SIR_net = net(t)\n",
    "    loss_obs = torch.nn.functional.mse_loss(SIR_net, SIR_obs)\n",
>>>>>>> 649080f60549bba594a8087dd62902740340b719
    "    return loss_obs"
   ]
  },
  {
   "cell_type": "code",
<<<<<<< HEAD
   "execution_count": 4,
   "id": "aea83179",
   "metadata": {},
=======
   "execution_count": 6,
   "id": "aea83179",
   "metadata": {
    "id": "aea83179"
   },
>>>>>>> 649080f60549bba594a8087dd62902740340b719
   "outputs": [],
   "source": [
    "# define network architecture\n",
    "input_dim = 1\n",
    "output_dim = 3\n",
<<<<<<< HEAD
    "num_hidden = 50\n",
=======
    "num_hidden = 20\n",
>>>>>>> 649080f60549bba594a8087dd62902740340b719
    "\n",
    "class Net(nn.Module):\n",
    "    def __init__(self, num_hidden):\n",
    "        super().__init__()\n",
    "        self.linear_relu_stack = nn.Sequential(\n",
    "            nn.Linear(input_dim, num_hidden),\n",
    "            nn.ReLU(),\n",
<<<<<<< HEAD
    "            #nn.Linear(num_hidden, num_hidden),\n",
    "            #nn.ReLU(),\n",
=======
    "            nn.Linear(num_hidden, num_hidden),\n",
    "            nn.ReLU(),\n",
>>>>>>> 649080f60549bba594a8087dd62902740340b719
    "            nn.Linear(num_hidden, num_hidden),\n",
    "            nn.ReLU(),\n",
    "            nn.Linear(num_hidden, num_hidden),\n",
    "            nn.ReLU(),\n",
    "            nn.Linear(num_hidden, output_dim),\n",
    "        )\n",
<<<<<<< HEAD
    "        \n",
=======
    "\n",
>>>>>>> 649080f60549bba594a8087dd62902740340b719
    "        # Apply Kaiming initialization to the layers\n",
    "        for m in self.modules():\n",
    "            if isinstance(m, nn.Linear):\n",
    "                nn.init.xavier_uniform_(m.weight)\n",
    "                if m.bias is not None:\n",
    "                    nn.init.constant_(m.bias, 0)\n",
    "\n",
    "    def forward(self, t):\n",
    "        SIR = self.linear_relu_stack(t)\n",
    "        return SIR\n",
<<<<<<< HEAD
    "    \n",
    "net = Net(num_hidden)\n",
    "    \n",
    "# hyperparameters\n",
    "learning_rate = 1e-3\n",
    "batch_size = 20\n",
    "num_epochs = 50\n",
=======
    "\n",
    "net = Net(num_hidden)\n",
    "\n",
    "# hyperparameters\n",
    "learning_rate = 1e-3\n",
    "batch_size = 20\n",
    "num_epochs = 300\n",
>>>>>>> 649080f60549bba594a8087dd62902740340b719
    "\n",
    "#initialize lambdas for soft-adaptation\n",
    "lambda_ode = torch.nn.Parameter(torch.tensor([1.0], requires_grad=True))\n",
    "lambda_ic = torch.nn.Parameter(torch.tensor([1.0], requires_grad=True))\n",
    "lambda_obs = torch.nn.Parameter(torch.tensor([1.0], requires_grad=True))\n",
    "\n",
    "#optimizer: weights updates the net, ode and ic update the lambda for soft-adaptation\n",
    "optimizer_weights = optim.Adam(net.parameters(), lr=learning_rate)\n",
    "optimizer_ode = optim.Adam([lambda_ode], lr=learning_rate)\n",
    "optimizer_ic = optim.Adam([lambda_ic], lr=learning_rate)\n",
    "optimizer_obs = optim.Adam([lambda_obs], lr=learning_rate)"
   ]
  },
  {
   "cell_type": "code",
<<<<<<< HEAD
   "execution_count": 5,
   "id": "bf4e76b3",
   "metadata": {},
=======
   "execution_count": 7,
   "id": "bf4e76b3",
   "metadata": {
    "colab": {
     "base_uri": "https://localhost:8080/",
     "height": 587
    },
    "id": "bf4e76b3",
    "outputId": "4902a5fd-110f-4c61-df4d-7f197c757f50"
   },
>>>>>>> 649080f60549bba594a8087dd62902740340b719
   "outputs": [
    {
     "name": "stdout",
     "output_type": "stream",
     "text": [
<<<<<<< HEAD
      "torch.Size([501, 3])\n",
      "torch.Size([501, 1])\n"
     ]
    },
    {
     "ename": "RuntimeError",
     "evalue": "expected scalar type Float but found Long",
     "output_type": "error",
     "traceback": [
      "\u001b[1;31m---------------------------------------------------------------------------\u001b[0m",
      "\u001b[1;31mRuntimeError\u001b[0m                              Traceback (most recent call last)",
      "Input \u001b[1;32mIn [5]\u001b[0m, in \u001b[0;36m<cell line: 14>\u001b[1;34m()\u001b[0m\n\u001b[0;32m     31\u001b[0m \u001b[38;5;66;03m# compute gradients given loss\u001b[39;00m\n\u001b[0;32m     32\u001b[0m batch_loss_ode \u001b[38;5;241m=\u001b[39m loss_ode(net, t_tensor)\n\u001b[1;32m---> 33\u001b[0m batch_loss_ic \u001b[38;5;241m=\u001b[39m \u001b[43mloss_ic\u001b[49m\u001b[43m(\u001b[49m\u001b[43mnet\u001b[49m\u001b[43m)\u001b[49m\n\u001b[0;32m     34\u001b[0m batch_loss \u001b[38;5;241m=\u001b[39m lambda_ode \u001b[38;5;241m*\u001b[39m batch_loss_ode \u001b[38;5;241m+\u001b[39m lambda_ic \u001b[38;5;241m*\u001b[39m batch_loss_ic \u001b[38;5;241m+\u001b[39m lambda_obs \u001b[38;5;241m*\u001b[39m batch_loss_obs \u001b[38;5;66;03m# with soft adaptation\u001b[39;00m\n\u001b[0;32m     35\u001b[0m batch_loss\u001b[38;5;241m.\u001b[39mbackward()\n",
      "Input \u001b[1;32mIn [3]\u001b[0m, in \u001b[0;36mloss_ic\u001b[1;34m(net)\u001b[0m\n\u001b[0;32m     24\u001b[0m \u001b[38;5;28;01mdef\u001b[39;00m \u001b[38;5;21mloss_ic\u001b[39m(net):\n\u001b[1;32m---> 25\u001b[0m     SIR_t0 \u001b[38;5;241m=\u001b[39m \u001b[43mnet\u001b[49m\u001b[43m(\u001b[49m\u001b[43mt_0\u001b[49m\u001b[43m)\u001b[49m\n\u001b[0;32m     26\u001b[0m     loss_ic_squared \u001b[38;5;241m=\u001b[39m (SIR_t0[:, \u001b[38;5;241m0\u001b[39m]\u001b[38;5;241m-\u001b[39mS_0)\u001b[38;5;241m*\u001b[39m\u001b[38;5;241m*\u001b[39m\u001b[38;5;241m2\u001b[39m \u001b[38;5;241m+\u001b[39m (SIR_t0[:, \u001b[38;5;241m1\u001b[39m]\u001b[38;5;241m-\u001b[39mI_0)\u001b[38;5;241m*\u001b[39m\u001b[38;5;241m*\u001b[39m\u001b[38;5;241m2\u001b[39m \u001b[38;5;241m+\u001b[39m (SIR_t0[:, \u001b[38;5;241m2\u001b[39m]\u001b[38;5;241m-\u001b[39mR_0)\u001b[38;5;241m*\u001b[39m\u001b[38;5;241m*\u001b[39m\u001b[38;5;241m2\u001b[39m\n\u001b[0;32m     27\u001b[0m     loss_ic \u001b[38;5;241m=\u001b[39m torch\u001b[38;5;241m.\u001b[39msqrt(loss_ic_squared)\u001b[38;5;241m/\u001b[39m\u001b[38;5;241m3\u001b[39m\n",
      "File \u001b[1;32m~\\anaconda3\\lib\\site-packages\\torch\\nn\\modules\\module.py:1102\u001b[0m, in \u001b[0;36mModule._call_impl\u001b[1;34m(self, *input, **kwargs)\u001b[0m\n\u001b[0;32m   1098\u001b[0m \u001b[38;5;66;03m# If we don't have any hooks, we want to skip the rest of the logic in\u001b[39;00m\n\u001b[0;32m   1099\u001b[0m \u001b[38;5;66;03m# this function, and just call forward.\u001b[39;00m\n\u001b[0;32m   1100\u001b[0m \u001b[38;5;28;01mif\u001b[39;00m \u001b[38;5;129;01mnot\u001b[39;00m (\u001b[38;5;28mself\u001b[39m\u001b[38;5;241m.\u001b[39m_backward_hooks \u001b[38;5;129;01mor\u001b[39;00m \u001b[38;5;28mself\u001b[39m\u001b[38;5;241m.\u001b[39m_forward_hooks \u001b[38;5;129;01mor\u001b[39;00m \u001b[38;5;28mself\u001b[39m\u001b[38;5;241m.\u001b[39m_forward_pre_hooks \u001b[38;5;129;01mor\u001b[39;00m _global_backward_hooks\n\u001b[0;32m   1101\u001b[0m         \u001b[38;5;129;01mor\u001b[39;00m _global_forward_hooks \u001b[38;5;129;01mor\u001b[39;00m _global_forward_pre_hooks):\n\u001b[1;32m-> 1102\u001b[0m     \u001b[38;5;28;01mreturn\u001b[39;00m forward_call(\u001b[38;5;241m*\u001b[39m\u001b[38;5;28minput\u001b[39m, \u001b[38;5;241m*\u001b[39m\u001b[38;5;241m*\u001b[39mkwargs)\n\u001b[0;32m   1103\u001b[0m \u001b[38;5;66;03m# Do not call functions when jit is used\u001b[39;00m\n\u001b[0;32m   1104\u001b[0m full_backward_hooks, non_full_backward_hooks \u001b[38;5;241m=\u001b[39m [], []\n",
      "Input \u001b[1;32mIn [4]\u001b[0m, in \u001b[0;36mNet.forward\u001b[1;34m(self, t)\u001b[0m\n\u001b[0;32m     28\u001b[0m \u001b[38;5;28;01mdef\u001b[39;00m \u001b[38;5;21mforward\u001b[39m(\u001b[38;5;28mself\u001b[39m, t):\n\u001b[1;32m---> 29\u001b[0m     SIR \u001b[38;5;241m=\u001b[39m \u001b[38;5;28;43mself\u001b[39;49m\u001b[38;5;241;43m.\u001b[39;49m\u001b[43mlinear_relu_stack\u001b[49m\u001b[43m(\u001b[49m\u001b[43mt\u001b[49m\u001b[43m)\u001b[49m\n\u001b[0;32m     30\u001b[0m     \u001b[38;5;28;01mreturn\u001b[39;00m SIR\n",
      "File \u001b[1;32m~\\anaconda3\\lib\\site-packages\\torch\\nn\\modules\\module.py:1102\u001b[0m, in \u001b[0;36mModule._call_impl\u001b[1;34m(self, *input, **kwargs)\u001b[0m\n\u001b[0;32m   1098\u001b[0m \u001b[38;5;66;03m# If we don't have any hooks, we want to skip the rest of the logic in\u001b[39;00m\n\u001b[0;32m   1099\u001b[0m \u001b[38;5;66;03m# this function, and just call forward.\u001b[39;00m\n\u001b[0;32m   1100\u001b[0m \u001b[38;5;28;01mif\u001b[39;00m \u001b[38;5;129;01mnot\u001b[39;00m (\u001b[38;5;28mself\u001b[39m\u001b[38;5;241m.\u001b[39m_backward_hooks \u001b[38;5;129;01mor\u001b[39;00m \u001b[38;5;28mself\u001b[39m\u001b[38;5;241m.\u001b[39m_forward_hooks \u001b[38;5;129;01mor\u001b[39;00m \u001b[38;5;28mself\u001b[39m\u001b[38;5;241m.\u001b[39m_forward_pre_hooks \u001b[38;5;129;01mor\u001b[39;00m _global_backward_hooks\n\u001b[0;32m   1101\u001b[0m         \u001b[38;5;129;01mor\u001b[39;00m _global_forward_hooks \u001b[38;5;129;01mor\u001b[39;00m _global_forward_pre_hooks):\n\u001b[1;32m-> 1102\u001b[0m     \u001b[38;5;28;01mreturn\u001b[39;00m forward_call(\u001b[38;5;241m*\u001b[39m\u001b[38;5;28minput\u001b[39m, \u001b[38;5;241m*\u001b[39m\u001b[38;5;241m*\u001b[39mkwargs)\n\u001b[0;32m   1103\u001b[0m \u001b[38;5;66;03m# Do not call functions when jit is used\u001b[39;00m\n\u001b[0;32m   1104\u001b[0m full_backward_hooks, non_full_backward_hooks \u001b[38;5;241m=\u001b[39m [], []\n",
      "File \u001b[1;32m~\\anaconda3\\lib\\site-packages\\torch\\nn\\modules\\container.py:141\u001b[0m, in \u001b[0;36mSequential.forward\u001b[1;34m(self, input)\u001b[0m\n\u001b[0;32m    139\u001b[0m \u001b[38;5;28;01mdef\u001b[39;00m \u001b[38;5;21mforward\u001b[39m(\u001b[38;5;28mself\u001b[39m, \u001b[38;5;28minput\u001b[39m):\n\u001b[0;32m    140\u001b[0m     \u001b[38;5;28;01mfor\u001b[39;00m module \u001b[38;5;129;01min\u001b[39;00m \u001b[38;5;28mself\u001b[39m:\n\u001b[1;32m--> 141\u001b[0m         \u001b[38;5;28minput\u001b[39m \u001b[38;5;241m=\u001b[39m \u001b[43mmodule\u001b[49m\u001b[43m(\u001b[49m\u001b[38;5;28;43minput\u001b[39;49m\u001b[43m)\u001b[49m\n\u001b[0;32m    142\u001b[0m     \u001b[38;5;28;01mreturn\u001b[39;00m \u001b[38;5;28minput\u001b[39m\n",
      "File \u001b[1;32m~\\anaconda3\\lib\\site-packages\\torch\\nn\\modules\\module.py:1102\u001b[0m, in \u001b[0;36mModule._call_impl\u001b[1;34m(self, *input, **kwargs)\u001b[0m\n\u001b[0;32m   1098\u001b[0m \u001b[38;5;66;03m# If we don't have any hooks, we want to skip the rest of the logic in\u001b[39;00m\n\u001b[0;32m   1099\u001b[0m \u001b[38;5;66;03m# this function, and just call forward.\u001b[39;00m\n\u001b[0;32m   1100\u001b[0m \u001b[38;5;28;01mif\u001b[39;00m \u001b[38;5;129;01mnot\u001b[39;00m (\u001b[38;5;28mself\u001b[39m\u001b[38;5;241m.\u001b[39m_backward_hooks \u001b[38;5;129;01mor\u001b[39;00m \u001b[38;5;28mself\u001b[39m\u001b[38;5;241m.\u001b[39m_forward_hooks \u001b[38;5;129;01mor\u001b[39;00m \u001b[38;5;28mself\u001b[39m\u001b[38;5;241m.\u001b[39m_forward_pre_hooks \u001b[38;5;129;01mor\u001b[39;00m _global_backward_hooks\n\u001b[0;32m   1101\u001b[0m         \u001b[38;5;129;01mor\u001b[39;00m _global_forward_hooks \u001b[38;5;129;01mor\u001b[39;00m _global_forward_pre_hooks):\n\u001b[1;32m-> 1102\u001b[0m     \u001b[38;5;28;01mreturn\u001b[39;00m forward_call(\u001b[38;5;241m*\u001b[39m\u001b[38;5;28minput\u001b[39m, \u001b[38;5;241m*\u001b[39m\u001b[38;5;241m*\u001b[39mkwargs)\n\u001b[0;32m   1103\u001b[0m \u001b[38;5;66;03m# Do not call functions when jit is used\u001b[39;00m\n\u001b[0;32m   1104\u001b[0m full_backward_hooks, non_full_backward_hooks \u001b[38;5;241m=\u001b[39m [], []\n",
      "File \u001b[1;32m~\\anaconda3\\lib\\site-packages\\torch\\nn\\modules\\linear.py:103\u001b[0m, in \u001b[0;36mLinear.forward\u001b[1;34m(self, input)\u001b[0m\n\u001b[0;32m    102\u001b[0m \u001b[38;5;28;01mdef\u001b[39;00m \u001b[38;5;21mforward\u001b[39m(\u001b[38;5;28mself\u001b[39m, \u001b[38;5;28minput\u001b[39m: Tensor) \u001b[38;5;241m-\u001b[39m\u001b[38;5;241m>\u001b[39m Tensor:\n\u001b[1;32m--> 103\u001b[0m     \u001b[38;5;28;01mreturn\u001b[39;00m \u001b[43mF\u001b[49m\u001b[38;5;241;43m.\u001b[39;49m\u001b[43mlinear\u001b[49m\u001b[43m(\u001b[49m\u001b[38;5;28;43minput\u001b[39;49m\u001b[43m,\u001b[49m\u001b[43m \u001b[49m\u001b[38;5;28;43mself\u001b[39;49m\u001b[38;5;241;43m.\u001b[39;49m\u001b[43mweight\u001b[49m\u001b[43m,\u001b[49m\u001b[43m \u001b[49m\u001b[38;5;28;43mself\u001b[39;49m\u001b[38;5;241;43m.\u001b[39;49m\u001b[43mbias\u001b[49m\u001b[43m)\u001b[49m\n",
      "File \u001b[1;32m~\\anaconda3\\lib\\site-packages\\torch\\nn\\functional.py:1848\u001b[0m, in \u001b[0;36mlinear\u001b[1;34m(input, weight, bias)\u001b[0m\n\u001b[0;32m   1846\u001b[0m \u001b[38;5;28;01mif\u001b[39;00m has_torch_function_variadic(\u001b[38;5;28minput\u001b[39m, weight, bias):\n\u001b[0;32m   1847\u001b[0m     \u001b[38;5;28;01mreturn\u001b[39;00m handle_torch_function(linear, (\u001b[38;5;28minput\u001b[39m, weight, bias), \u001b[38;5;28minput\u001b[39m, weight, bias\u001b[38;5;241m=\u001b[39mbias)\n\u001b[1;32m-> 1848\u001b[0m \u001b[38;5;28;01mreturn\u001b[39;00m \u001b[43mtorch\u001b[49m\u001b[38;5;241;43m.\u001b[39;49m\u001b[43m_C\u001b[49m\u001b[38;5;241;43m.\u001b[39;49m\u001b[43m_nn\u001b[49m\u001b[38;5;241;43m.\u001b[39;49m\u001b[43mlinear\u001b[49m\u001b[43m(\u001b[49m\u001b[38;5;28;43minput\u001b[39;49m\u001b[43m,\u001b[49m\u001b[43m \u001b[49m\u001b[43mweight\u001b[49m\u001b[43m,\u001b[49m\u001b[43m \u001b[49m\u001b[43mbias\u001b[49m\u001b[43m)\u001b[49m\n",
      "\u001b[1;31mRuntimeError\u001b[0m: expected scalar type Float but found Long"
     ]
=======
      "epoch 1 : Total loss 28146860.0 , ode loss: 1.735 , ode lambda: 1.0 , ic loss: 4166.245 , ic lambda: 1.025 , obs loss: 27896407.9 , obs lambda: 1.018\n",
      "epoch 51 : Total loss 25189242.0 , ode loss: 36169.076 , ode lambda: 1.0 , ic loss: 4017.505 , ic lambda: 2.272 , obs loss: 15362922.5 , obs lambda: 1.645\n",
      "epoch 101 : Total loss 185403.547 , ode loss: 42872.408 , ode lambda: 1.0 , ic loss: 172.12 , ic lambda: 2.629 , obs loss: 105180.595 , obs lambda: 1.758\n",
      "epoch 151 : Total loss 25059.525 , ode loss: 39960.212 , ode lambda: 1.0 , ic loss: 116.819 , ic lambda: 2.757 , obs loss: 14055.22 , obs lambda: 1.76\n",
      "epoch 201 : Total loss 14522.94 , ode loss: 39148.222 , ode lambda: 1.0 , ic loss: 90.224 , ic lambda: 2.897 , obs loss: 8100.774 , obs lambda: 1.761\n",
      "epoch 251 : Total loss 13189.472 , ode loss: 38761.618 , ode lambda: 1.0 , ic loss: 83.346 , ic lambda: 3.137 , obs loss: 7341.798 , obs lambda: 1.761\n"
     ]
    },
    {
     "data": {
      "text/plain": [
       "(Text(0.5, 0, 'Updates'), Text(0, 0.5, 'Loss'))"
      ]
     },
     "execution_count": 7,
     "metadata": {},
     "output_type": "execute_result"
    },
    {
     "data": {
      "image/png": "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\n",
      "text/plain": [
       "<Figure size 640x480 with 1 Axes>"
      ]
     },
     "metadata": {},
     "output_type": "display_data"
>>>>>>> 649080f60549bba594a8087dd62902740340b719
    }
   ],
   "source": [
    "# train network\n",
    "\n",
    "#getting epoch sizes\n",
    "num_samples_train = t_tensor.shape[0]\n",
    "num_batches_train = num_samples_train // batch_size\n",
    "\n",
    "# setting up lists for handling loss/accuracy\n",
    "train_acc, train_loss = [], []\n",
    "cur_loss = 0\n",
    "losses, ode_losses, ic_losses, obs_losses = [], [], [], []\n",
    "\n",
    "get_slice = lambda i, size: range(i * size, (i + 1) * size) #get slices for each batch\n",
    "\n",
    "for epoch in range(num_epochs):\n",
    "    # Forward -> Backprob -> Update params\n",
    "    ## Train\n",
    "    cur_loss = 0\n",
    "    ode_loss = 0\n",
    "    ic_loss = 0\n",
    "    obs_loss = 0\n",
    "    net.train()\n",
    "    for i in range(num_batches_train):\n",
    "        # Zero the gradients for all optimizers\n",
    "        optimizer_weights.zero_grad()\n",
    "        optimizer_ode.zero_grad()\n",
    "        optimizer_ic.zero_grad()\n",
<<<<<<< HEAD
    "        \n",
=======
    "\n",
>>>>>>> 649080f60549bba594a8087dd62902740340b719
    "        slce = get_slice(i, batch_size)\n",
    "        output = net(t_tensor[slce])\n",
    "\n",
    "        # compute gradients given loss\n",
    "        batch_loss_ode = loss_ode(net, t_tensor)\n",
    "        batch_loss_ic = loss_ic(net)\n",
<<<<<<< HEAD
    "        batch_loss = lambda_ode * batch_loss_ode + lambda_ic * batch_loss_ic + lambda_obs * batch_loss_obs # with soft adaptation\n",
    "        batch_loss.backward()\n",
    "        \n",
    "        #maximize gradients of lambdas by inverting the gradient\n",
    "        with torch.no_grad():\n",
    "            lambda_ode.grad *= -1\n",
    "            lambda_ic.grad *= -1\n",
    "            lambda_obs.grad *= -1\n",
    "        \n",
    "        #update net and lambdas\n",
    "        optimizer_weights.step()\n",
    "        optimizer_ode.step()\n",
=======
    "        batch_loss_obs = loss_obs(net, t_tensor, SIR_obs)\n",
    "        #batch_loss = lambda_ode * batch_loss_ode + lambda_ic * batch_loss_ic + lambda_obs * batch_loss_obs # with soft adaptation\n",
    "        batch_loss = lambda_obs * batch_loss_obs + lambda_ic * batch_loss_ic\n",
    "        batch_loss.backward()\n",
    "\n",
    "        #maximize gradients of lambdas by inverting the gradient\n",
    "        with torch.no_grad():\n",
    "            #lambda_ode.grad *= -1\n",
    "            lambda_ic.grad *= -1\n",
    "            lambda_obs.grad *= -1\n",
    "\n",
    "        #update net and lambdas\n",
    "        optimizer_weights.step()\n",
    "        #optimizer_ode.step()\n",
>>>>>>> 649080f60549bba594a8087dd62902740340b719
    "        optimizer_ic.step()\n",
    "        optimizer_obs.step()\n",
    "\n",
    "        cur_loss += batch_loss.detach().numpy()\n",
    "        ode_loss += batch_loss_ode.detach().numpy()\n",
    "        ic_loss += batch_loss_ic.detach().numpy()\n",
<<<<<<< HEAD
    "        obs_loss += batch_loss_ic.detach().numpy()\n",
    "        \n",
    "    losses.append(cur_loss / batch_size)\n",
    "    ode_losses.append(ode_loss / batch_size)\n",
    "    ic_losses.append(ic_loss / batch_size)\n",
    "    obs_losses.append(ic_loss / batch_size)\n",
    "\n",
    "    net.eval()\n",
    "\n",
    "    if epoch % 5 == 0:\n",
    "        print(\n",
    "            f\"epoch {epoch+1} : Total loss {np.round(losses[-1].item(), decimals=6)} , \"\n",
    "            f\"ode loss: {np.round(ode_losses[-1].item(), decimals=6)} , \"\n",
    "            f\"ode lambda: {np.round(lambda_ode.item(), decimals=3)} , \"\n",
    "            f\"ic loss: {np.round(ic_losses[-1].item(), decimals=6)} , \"\n",
    "            f\"ic lambda: {np.round(lambda_ic.item(), decimals=3)}\"\n",
    "    )\n",
    "        \n",
    "        \n",
=======
    "        obs_loss += batch_loss_obs.detach().numpy()\n",
    "\n",
    "    losses.append(cur_loss / batch_size)\n",
    "    ode_losses.append(ode_loss / batch_size)\n",
    "    ic_losses.append(ic_loss / batch_size)\n",
    "    obs_losses.append(obs_loss / batch_size)\n",
    "\n",
    "    net.eval()\n",
    "\n",
    "    if epoch % 50 == 0:\n",
    "        print(\n",
    "            f\"epoch {epoch+1} : Total loss {np.round(losses[-1].item(), decimals=3)} , \"\n",
    "            f\"ode loss: {np.round(ode_losses[-1].item(), decimals=3)} , \"\n",
    "            f\"ode lambda: {np.round(lambda_ode.item(), decimals=3)} , \"\n",
    "            f\"ic loss: {np.round(ic_losses[-1].item(), decimals=3)} , \"\n",
    "            f\"ic lambda: {np.round(lambda_ic.item(), decimals=3)} , \"\n",
    "            f\"obs loss: {np.round(obs_losses[-1].item(), decimals=3)} , \"\n",
    "            f\"obs lambda: {np.round(lambda_obs.item(), decimals=3)}\"\n",
    "    )\n",
    "\n",
    "\n",
>>>>>>> 649080f60549bba594a8087dd62902740340b719
    "epoch = np.arange(len(losses))\n",
    "plt.figure()\n",
    "plt.plot(epoch, losses, 'r')\n",
    "plt.plot(epoch, ode_losses, 'g')\n",
    "plt.plot(epoch, ic_losses, 'b')\n",
<<<<<<< HEAD
    "plt.legend(['Loss', 'ODE loss', 'IC loss'])\n",
=======
    "plt.plot(epoch, obs_losses, 'c')\n",
    "plt.legend(['Loss', 'ODE loss', 'IC loss', \"Obs loss\"])\n",
>>>>>>> 649080f60549bba594a8087dd62902740340b719
    "plt.xlabel('Updates'), plt.ylabel('Loss')"
   ]
  },
  {
   "cell_type": "markdown",
   "id": "f2014f5f",
<<<<<<< HEAD
   "metadata": {},
=======
   "metadata": {
    "id": "f2014f5f"
   },
>>>>>>> 649080f60549bba594a8087dd62902740340b719
   "source": [
    "## Visualization"
   ]
  },
  {
   "cell_type": "code",
<<<<<<< HEAD
   "execution_count": null,
   "id": "b4c750ea-8ddc-4a6d-a8fa-e84d3df0f6c2",
   "metadata": {},
   "outputs": [],
   "source": []
  }
 ],
 "metadata": {
=======
   "execution_count": 8,
   "id": "4b64e895-396c-4ff1-92b2-86fab58abb39",
   "metadata": {
    "id": "4b64e895-396c-4ff1-92b2-86fab58abb39"
   },
   "outputs": [],
   "source": [
    "def SIR_net_numpy(t):\n",
    "    SIR = net(t)\n",
    "    S_net = SIR[:, 0].detach().numpy()\n",
    "    I_net = SIR[:, 1].detach().numpy()\n",
    "    R_net = SIR[:, 2].detach().numpy()\n",
    "    return S_net, I_net, R_net"
   ]
  },
  {
   "cell_type": "code",
   "execution_count": 9,
   "id": "b4c750ea-8ddc-4a6d-a8fa-e84d3df0f6c2",
   "metadata": {
    "colab": {
     "base_uri": "https://localhost:8080/",
     "height": 457
    },
    "id": "b4c750ea-8ddc-4a6d-a8fa-e84d3df0f6c2",
    "outputId": "2941cc8b-2cbd-4293-e801-4682f5e94676"
   },
   "outputs": [
    {
     "data": {
      "image/png": "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\n",
      "text/plain": [
       "<Figure size 640x480 with 1 Axes>"
      ]
     },
     "metadata": {},
     "output_type": "display_data"
    }
   ],
   "source": [
    "#numerical solution\n",
    "S_num, I_num, R_num = SIR_numerical(t_array)\n",
    "#PINN solution\n",
    "S_net, I_net, R_net = SIR_net_numpy(t_tensor)\n",
    "\n",
    "plt.figure()\n",
    "plt.plot(t_array, S_num, color=\"blue\")\n",
    "plt.plot(t_array, I_num, color=\"red\")\n",
    "plt.plot(t_array, R_num, color=\"green\")\n",
    "plt.plot(t_array, S_net, color=\"blue\", linestyle=\"--\")\n",
    "plt.plot(t_array, I_net, color=\"red\", linestyle=\"--\")\n",
    "plt.plot(t_array, R_net, color=\"green\", linestyle=\"--\")\n",
    "plt.xlabel('t (in days)', fontsize = 12)\n",
    "plt.ylabel('I(t), S(t), R(t)', fontsize = 12)\n",
    "plt.xticks(fontsize = 12)\n",
    "plt.yticks(fontsize = 12)\n",
    "plt.grid(True)\n",
    "plt.legend([\"S (num)\", \"I (num)\", \"R (num)\", \"S (PINN)\", \"I (PINN)\", \"R ( PINN)\"])\n",
    "plt.show()"
   ]
  }
 ],
 "metadata": {
  "accelerator": "GPU",
  "colab": {
   "gpuType": "T4",
   "provenance": []
  },
>>>>>>> 649080f60549bba594a8087dd62902740340b719
  "kernelspec": {
   "display_name": "Python 3 (ipykernel)",
   "language": "python",
   "name": "python3"
  },
  "language_info": {
   "codemirror_mode": {
    "name": "ipython",
    "version": 3
   },
   "file_extension": ".py",
   "mimetype": "text/x-python",
   "name": "python",
   "nbconvert_exporter": "python",
   "pygments_lexer": "ipython3",
   "version": "3.9.13"
  }
 },
 "nbformat": 4,
 "nbformat_minor": 5
}
